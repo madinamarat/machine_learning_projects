{
 "cells": [
  {
   "cell_type": "code",
   "execution_count": 3,
   "metadata": {},
   "outputs": [],
   "source": [
    "import requests\n",
    "import re\n",
    "from bs4 import BeautifulSoup\n",
    "import pandas as pd\n",
    "import numpy as np\n",
    "from sklearn.feature_extraction.text import TfidfVectorizer\n",
    "import spacy\n",
    "from sklearn.model_selection import train_test_split\n",
    "from sklearn.ensemble import RandomForestClassifier\n",
    "from sklearn.linear_model import LogisticRegression\n",
    "from sklearn.dummy import DummyClassifier\n",
    "from sklearn.tree import DecisionTreeClassifier\n",
    "from sklearn.metrics import plot_confusion_matrix\n",
    "from sklearn.metrics import precision_score\n",
    "from sklearn.metrics import f1_score\n",
    "from sklearn.model_selection import cross_val_score\n",
    "from tqdm import tqdm\n",
    "from sklearn.naive_bayes import MultinomialNB\n",
    "from sklearn.pipeline import Pipeline\n",
    "from imblearn.over_sampling import RandomOverSampler, SMOTE\n",
    "from imblearn.under_sampling import RandomUnderSampler, NearMiss\n",
    "from collections import Counter"
   ]
  },
  {
   "cell_type": "code",
   "execution_count": 13,
   "metadata": {},
   "outputs": [],
   "source": [
    "def lyrics(url):\n",
    "    \n",
    "    r1=requests.get(url)\n",
    "    songs=BeautifulSoup(r1.text)\n",
    "    songs = songs.find_all('td',attrs={'class':'tal qx'})\n",
    "    \n",
    "    df = pd.DataFrame() \n",
    "    for i in songs:\n",
    "        lyric_links = \"https://www.lyrics.com\" + i.find(\"a\").get(\"href\")     \n",
    "        r2 = requests.get(lyric_links)\n",
    "        if r2.status_code==200:\n",
    "            lyrics= BeautifulSoup(r2.text) \n",
    "            try:\n",
    "                artist = lyrics.find(\"h4\").find(\"a\").text\n",
    "                lyrics=lyrics.find('pre', attrs={'id':'lyric-body-text', \"class\":\"lyric-body\"}).text\n",
    "                lyrics = re.sub(\"\\\\n\",\" \",lyrics)                 \n",
    "                data = pd.DataFrame({\"artist\": [artist], \"songs\": [lyrics]})\n",
    "                df = df.append(data)\n",
    "            except AttributeError:\n",
    "                continue\n",
    "    return df    "
   ]
  },
  {
   "cell_type": "code",
   "execution_count": 14,
   "metadata": {},
   "outputs": [],
   "source": [
    "kooks=lyrics('https://www.lyrics.com/artist/The-Kooks/762797')"
   ]
  },
  {
   "cell_type": "code",
   "execution_count": 21,
   "metadata": {
    "scrolled": false
   },
   "outputs": [],
   "source": [
    "alicia=lyrics('https://www.lyrics.com/artist/Alicia-Keys/469431')"
   ]
  },
  {
   "cell_type": "code",
   "execution_count": 22,
   "metadata": {},
   "outputs": [],
   "source": [
    "allsongs=kooks.append(alicia)"
   ]
  },
  {
   "cell_type": "code",
   "execution_count": 23,
   "metadata": {},
   "outputs": [
    {
     "data": {
      "text/plain": [
       "Alicia Keys           500\n",
       "The Kooks             224\n",
       "Usher                  14\n",
       "MAX 9                  11\n",
       "Jimmy Cozier           10\n",
       "Nas                     5\n",
       "Cham                    4\n",
       "DJ Khaled               3\n",
       "Hans Zimmer             3\n",
       "Eve                     3\n",
       "Big Mike                3\n",
       "Ray Charles             2\n",
       "O.G. Ron C.             2\n",
       "Cutmaster C             2\n",
       "Pharrell Williams       2\n",
       "Aaron Zigman            2\n",
       "Mark Ronson             1\n",
       "Sly the Mic Buddah      1\n",
       "DJ Arson                1\n",
       "Mista Rello             1\n",
       "Justin Timberlake       1\n",
       "Chris Blue              1\n",
       "DJ Eko                  1\n",
       "DJ Goldfingers          1\n",
       "Eminem                  1\n",
       "5 Star                  1\n",
       "Empire Cast             1\n",
       "Angélique Kidjo         1\n",
       "DJ Luis                 1\n",
       "David Arnold            1\n",
       "Jay-Z                   1\n",
       "Name: artist, dtype: int64"
      ]
     },
     "execution_count": 23,
     "metadata": {},
     "output_type": "execute_result"
    }
   ],
   "source": [
    "allsongs['artist'].value_counts()"
   ]
  },
  {
   "cell_type": "code",
   "execution_count": 24,
   "metadata": {},
   "outputs": [],
   "source": [
    "allsongs=allsongs[allsongs['artist'].isin(['The Kooks','Alicia Keys'])]  #deleting rows with remixes"
   ]
  },
  {
   "cell_type": "code",
   "execution_count": 25,
   "metadata": {},
   "outputs": [],
   "source": [
    "allsongs.reset_index(inplace=True)"
   ]
  },
  {
   "cell_type": "code",
   "execution_count": 26,
   "metadata": {},
   "outputs": [],
   "source": [
    "allsongs= allsongs.drop([\"index\"], axis=1)"
   ]
  },
  {
   "cell_type": "code",
   "execution_count": 27,
   "metadata": {},
   "outputs": [],
   "source": [
    "allsongs.to_csv('allsongs.csv',index=False)"
   ]
  },
  {
   "cell_type": "code",
   "execution_count": 63,
   "metadata": {},
   "outputs": [
    {
     "data": {
      "text/html": [
       "<div>\n",
       "<style scoped>\n",
       "    .dataframe tbody tr th:only-of-type {\n",
       "        vertical-align: middle;\n",
       "    }\n",
       "\n",
       "    .dataframe tbody tr th {\n",
       "        vertical-align: top;\n",
       "    }\n",
       "\n",
       "    .dataframe thead th {\n",
       "        text-align: right;\n",
       "    }\n",
       "</style>\n",
       "<table border=\"1\" class=\"dataframe\">\n",
       "  <thead>\n",
       "    <tr style=\"text-align: right;\">\n",
       "      <th></th>\n",
       "      <th>artist</th>\n",
       "      <th>songs</th>\n",
       "    </tr>\n",
       "  </thead>\n",
       "  <tbody>\n",
       "    <tr>\n",
       "      <th>273</th>\n",
       "      <td>Alicia Keys</td>\n",
       "      <td>Yeah, hmmm Murder murder, I took the red pill ...</td>\n",
       "    </tr>\n",
       "    <tr>\n",
       "      <th>271</th>\n",
       "      <td>Alicia Keys</td>\n",
       "      <td>And it feels so good Don't you feel so good? T...</td>\n",
       "    </tr>\n",
       "    <tr>\n",
       "      <th>149</th>\n",
       "      <td>The Kooks</td>\n",
       "      <td>So hold your head, and hold your tongue But on...</td>\n",
       "    </tr>\n",
       "  </tbody>\n",
       "</table>\n",
       "</div>"
      ],
      "text/plain": [
       "          artist                                              songs\n",
       "273  Alicia Keys  Yeah, hmmm Murder murder, I took the red pill ...\n",
       "271  Alicia Keys  And it feels so good Don't you feel so good? T...\n",
       "149    The Kooks  So hold your head, and hold your tongue But on..."
      ]
     },
     "execution_count": 63,
     "metadata": {},
     "output_type": "execute_result"
    }
   ],
   "source": [
    "df=pd.read_csv('allsongs.csv',engine='python')\n",
    "df.sample(3)"
   ]
  },
  {
   "cell_type": "markdown",
   "metadata": {},
   "source": [
    "### Preprocessing"
   ]
  },
  {
   "cell_type": "code",
   "execution_count": 64,
   "metadata": {},
   "outputs": [],
   "source": [
    "X = list(df['songs'])\n",
    "y = list(df['artist'])"
   ]
  },
  {
   "cell_type": "code",
   "execution_count": 65,
   "metadata": {},
   "outputs": [],
   "source": [
    "X_train, X_test, y_train, y_test = train_test_split(X, y, random_state=42)"
   ]
  },
  {
   "cell_type": "code",
   "execution_count": 31,
   "metadata": {},
   "outputs": [],
   "source": [
    "nlp = spacy.load('en_core_web_md')"
   ]
  },
  {
   "cell_type": "code",
   "execution_count": 66,
   "metadata": {},
   "outputs": [],
   "source": [
    "def clean_text(corpus, model):\n",
    "    \"\"\"preprocess a string (tokens, stopwords, lowercase, lemma & stemming) returns the cleaned result\n",
    "        params: review - a string\n",
    "                model - a spacy model                \n",
    "        returns: list of cleaned strings\n",
    "    \"\"\"    \n",
    "    new_doc = []\n",
    "    doc = model(corpus)\n",
    "    for word in doc:\n",
    "        if not word.is_stop and word.is_alpha:\n",
    "            new_doc.append(word.lemma_.lower())  \n",
    "            final = \", \".join(map(str,new_doc))   \n",
    "    return final"
   ]
  },
  {
   "cell_type": "code",
   "execution_count": 67,
   "metadata": {
    "scrolled": false
   },
   "outputs": [
    {
     "name": "stderr",
     "output_type": "stream",
     "text": [
      "100%|██████████| 543/543 [00:30<00:00, 17.96it/s]\n"
     ]
    }
   ],
   "source": [
    "list1 = []\n",
    "for i in tqdm(X_train):\n",
    "    try:\n",
    "        d = clean_text(i, nlp)\n",
    "        list1.append(d)\n",
    "    except TypeError:\n",
    "        continue\n",
    "        \n",
    "clean_list = []\n",
    "for i in x_train:\n",
    "    clean = clean_text(i, nlp)\n",
    "    clean_list.append(clean)          "
   ]
  },
  {
   "cell_type": "code",
   "execution_count": 68,
   "metadata": {
    "scrolled": false
   },
   "outputs": [],
   "source": [
    "X_train=list1"
   ]
  },
  {
   "cell_type": "markdown",
   "metadata": {},
   "source": [
    "### Most common words"
   ]
  },
  {
   "cell_type": "code",
   "execution_count": 36,
   "metadata": {},
   "outputs": [],
   "source": [
    "st = \" \"  \n",
    "lyr_string=st.join(list1)      "
   ]
  },
  {
   "cell_type": "code",
   "execution_count": 37,
   "metadata": {},
   "outputs": [],
   "source": [
    "c = Counter(lyr_string)\n",
    "w = Counter(lyr_string.split())"
   ]
  },
  {
   "cell_type": "code",
   "execution_count": 38,
   "metadata": {},
   "outputs": [
    {
     "name": "stdout",
     "output_type": "stream",
     "text": [
      "[('oh,', 2196), ('know,', 1419), ('love,', 1380), ('baby,', 1097), ('let,', 977)]\n"
     ]
    }
   ],
   "source": [
    "print(w.most_common(5))"
   ]
  },
  {
   "cell_type": "markdown",
   "metadata": {},
   "source": [
    "### TfidfVectorizer"
   ]
  },
  {
   "cell_type": "code",
   "execution_count": 69,
   "metadata": {},
   "outputs": [],
   "source": [
    "tv = TfidfVectorizer() \n",
    "tv.fit(X_train)\n",
    "tv_corpus = tv.transform(X_train)\n",
    "Xtrain = pd.DataFrame(tv_corpus.todense().round(2), columns=tv.get_feature_names())"
   ]
  },
  {
   "cell_type": "code",
   "execution_count": 70,
   "metadata": {},
   "outputs": [
    {
     "data": {
      "text/html": [
       "<div>\n",
       "<style scoped>\n",
       "    .dataframe tbody tr th:only-of-type {\n",
       "        vertical-align: middle;\n",
       "    }\n",
       "\n",
       "    .dataframe tbody tr th {\n",
       "        vertical-align: top;\n",
       "    }\n",
       "\n",
       "    .dataframe thead th {\n",
       "        text-align: right;\n",
       "    }\n",
       "</style>\n",
       "<table border=\"1\" class=\"dataframe\">\n",
       "  <thead>\n",
       "    <tr style=\"text-align: right;\">\n",
       "      <th></th>\n",
       "      <th>aaaaah</th>\n",
       "      <th>abandon</th>\n",
       "      <th>absolutely</th>\n",
       "      <th>abuse</th>\n",
       "      <th>acap</th>\n",
       "      <th>accept</th>\n",
       "      <th>ache</th>\n",
       "      <th>achieve</th>\n",
       "      <th>achin</th>\n",
       "      <th>act</th>\n",
       "      <th>...</th>\n",
       "      <th>yell</th>\n",
       "      <th>yes</th>\n",
       "      <th>yesterday</th>\n",
       "      <th>yo</th>\n",
       "      <th>york</th>\n",
       "      <th>yoru</th>\n",
       "      <th>young</th>\n",
       "      <th>youth</th>\n",
       "      <th>yves</th>\n",
       "      <th>zero</th>\n",
       "    </tr>\n",
       "  </thead>\n",
       "  <tbody>\n",
       "    <tr>\n",
       "      <th>0</th>\n",
       "      <td>0.0</td>\n",
       "      <td>0.0</td>\n",
       "      <td>0.0</td>\n",
       "      <td>0.0</td>\n",
       "      <td>0.0</td>\n",
       "      <td>0.0</td>\n",
       "      <td>0.0</td>\n",
       "      <td>0.0</td>\n",
       "      <td>0.0</td>\n",
       "      <td>0.0</td>\n",
       "      <td>...</td>\n",
       "      <td>0.0</td>\n",
       "      <td>0.0</td>\n",
       "      <td>0.0</td>\n",
       "      <td>0.0</td>\n",
       "      <td>0.0</td>\n",
       "      <td>0.0</td>\n",
       "      <td>0.0</td>\n",
       "      <td>0.0</td>\n",
       "      <td>0.0</td>\n",
       "      <td>0.0</td>\n",
       "    </tr>\n",
       "    <tr>\n",
       "      <th>1</th>\n",
       "      <td>0.0</td>\n",
       "      <td>0.0</td>\n",
       "      <td>0.0</td>\n",
       "      <td>0.0</td>\n",
       "      <td>0.0</td>\n",
       "      <td>0.0</td>\n",
       "      <td>0.0</td>\n",
       "      <td>0.0</td>\n",
       "      <td>0.0</td>\n",
       "      <td>0.0</td>\n",
       "      <td>...</td>\n",
       "      <td>0.0</td>\n",
       "      <td>0.0</td>\n",
       "      <td>0.0</td>\n",
       "      <td>0.0</td>\n",
       "      <td>0.0</td>\n",
       "      <td>0.0</td>\n",
       "      <td>0.0</td>\n",
       "      <td>0.0</td>\n",
       "      <td>0.0</td>\n",
       "      <td>0.0</td>\n",
       "    </tr>\n",
       "  </tbody>\n",
       "</table>\n",
       "<p>2 rows × 2003 columns</p>\n",
       "</div>"
      ],
      "text/plain": [
       "   aaaaah  abandon  absolutely  abuse  acap  accept  ache  achieve  achin  \\\n",
       "0     0.0      0.0         0.0    0.0   0.0     0.0   0.0      0.0    0.0   \n",
       "1     0.0      0.0         0.0    0.0   0.0     0.0   0.0      0.0    0.0   \n",
       "\n",
       "   act  ...  yell  yes  yesterday   yo  york  yoru  young  youth  yves  zero  \n",
       "0  0.0  ...   0.0  0.0        0.0  0.0   0.0   0.0    0.0    0.0   0.0   0.0  \n",
       "1  0.0  ...   0.0  0.0        0.0  0.0   0.0   0.0    0.0    0.0   0.0   0.0  \n",
       "\n",
       "[2 rows x 2003 columns]"
      ]
     },
     "execution_count": 70,
     "metadata": {},
     "output_type": "execute_result"
    }
   ],
   "source": [
    "test_corpus = tv.transform(X_test)\n",
    "Xtest= pd.DataFrame(test_corpus.todense().round(2), columns=tv.get_feature_names())\n",
    "Xtest.head(2)"
   ]
  },
  {
   "cell_type": "markdown",
   "metadata": {},
   "source": [
    "### Train model"
   ]
  },
  {
   "cell_type": "code",
   "execution_count": 46,
   "metadata": {},
   "outputs": [],
   "source": [
    "def evaluate_model(m,Xtrain, y_train, Xtest, y_test):\n",
    "    m.fit(Xtrain, y_train)\n",
    "    \n",
    "    print(\"train accuracy: \", (m.score(Xtrain, y_train) *100).round(2), \" %\")\n",
    "\n",
    "# Cross validation\n",
    "    val = cross_val_score(m, Xtrain, y_train, cv=5, scoring='accuracy')\n",
    "    print(\"cross validation accuracy: \", (val * 100).round(2))\n",
    "    \n",
    "    print('\\n\\033[1m' + \"Test Data:\")\n",
    "    y_pred = m.predict(Xtest)\n",
    "\n",
    "    print('\\033[0m'+\"test accuracy: \", (m.score(Xtest, y_test) *100).round(2), \" %\")\n",
    "    print(\"precision score: \", (precision_score(y_test, y_pred, average='weighted') *100).round(2), \" %\")\n",
    "    print(\"f1 score:\", (f1_score(y_test, y_pred, average='weighted') *100).round(2), \" %\")  \n",
    "   \n",
    "    plot_confusion_matrix(m, Xtest, y_test, normalize=None)"
   ]
  },
  {
   "cell_type": "markdown",
   "metadata": {},
   "source": [
    "#### Random Forest"
   ]
  },
  {
   "cell_type": "code",
   "execution_count": 71,
   "metadata": {},
   "outputs": [],
   "source": [
    "def RandForestCl(Xtrain, y_train, Xtest, y_test, maximum_depth):    \n",
    "    m = RandomForestClassifier()  \n",
    "    evaluate_model(m, Xtrain, y_train, Xtest, y_test)"
   ]
  },
  {
   "cell_type": "code",
   "execution_count": 72,
   "metadata": {
    "scrolled": false
   },
   "outputs": [
    {
     "name": "stdout",
     "output_type": "stream",
     "text": [
      "train accuracy:  95.58  %\n",
      "cross validation accuracy:  [87.16 90.83 87.16 92.59 92.59]\n",
      "\n",
      "\u001b[1mTest Data:\n",
      "\u001b[0mtest accuracy:  76.24  %\n",
      "precision score:  82.59  %\n",
      "f1 score: 71.92  %\n"
     ]
    },
    {
     "data": {
      "image/png": "[encoded data removed]",
      "text/plain": [
       "<Figure size 432x288 with 2 Axes>"
      ]
     },
     "metadata": {
      "needs_background": "light"
     },
     "output_type": "display_data"
    }
   ],
   "source": [
    "RandForestCl(Xtrain, y_train, Xtest, y_test,10)"
   ]
  },
  {
   "cell_type": "markdown",
   "metadata": {},
   "source": [
    "\n",
    "#### Logistic Regression"
   ]
  },
  {
   "cell_type": "code",
   "execution_count": 73,
   "metadata": {},
   "outputs": [],
   "source": [
    "def LogReg(Xtrain, y_train, Xtest, y_test):   \n",
    "    m = LogisticRegression(C=1e5)\n",
    "    evaluate_model(m, Xtrain, y_train, Xtest, y_test)"
   ]
  },
  {
   "cell_type": "code",
   "execution_count": 74,
   "metadata": {
    "scrolled": false
   },
   "outputs": [
    {
     "name": "stdout",
     "output_type": "stream",
     "text": [
      "train accuracy:  100.0  %\n",
      "cross validation accuracy:  [92.66 98.17 96.33 96.3  98.15]\n",
      "\n",
      "\u001b[1mTest Data:\n",
      "\u001b[0mtest accuracy:  90.06  %\n",
      "precision score:  90.11  %\n",
      "f1 score: 89.88  %\n"
     ]
    },
    {
     "data": {
      "image/png": "[encoded data removed]",
      "text/plain": [
       "<Figure size 432x288 with 2 Axes>"
      ]
     },
     "metadata": {
      "needs_background": "light"
     },
     "output_type": "display_data"
    }
   ],
   "source": [
    "LogReg(Xtrain, y_train, Xtest, y_test)"
   ]
  },
  {
   "cell_type": "markdown",
   "metadata": {},
   "source": [
    "#### Decision Tree"
   ]
  },
  {
   "cell_type": "code",
   "execution_count": 75,
   "metadata": {},
   "outputs": [],
   "source": [
    "def DecisionTreeCl(Xtrain, y_train, Xtest, y_test, maximum_depth):\n",
    "    m = DecisionTreeClassifier(max_depth = maximum_depth)    \n",
    "    evaluate_model(m, Xtrain, y_train, Xtest, y_test)"
   ]
  },
  {
   "cell_type": "code",
   "execution_count": 76,
   "metadata": {},
   "outputs": [
    {
     "name": "stdout",
     "output_type": "stream",
     "text": [
      "train accuracy:  100.0  %\n",
      "cross validation accuracy:  [88.07 98.17 96.33 92.59 92.59]\n",
      "\n",
      "\u001b[1mTest Data:\n",
      "\u001b[0mtest accuracy:  71.82  %\n",
      "precision score:  70.86  %\n",
      "f1 score: 69.43  %\n"
     ]
    },
    {
     "data": {
      "image/png": "[encoded data removed]",
      "text/plain": [
       "<Figure size 432x288 with 2 Axes>"
      ]
     },
     "metadata": {
      "needs_background": "light"
     },
     "output_type": "display_data"
    }
   ],
   "source": [
    "DecisionTreeCl(Xtrain, y_train, Xtest, y_test, 10)"
   ]
  },
  {
   "cell_type": "markdown",
   "metadata": {},
   "source": [
    "### Naive Bayes and Pipeline"
   ]
  },
  {
   "cell_type": "code",
   "execution_count": 7,
   "metadata": {},
   "outputs": [],
   "source": [
    "NBpipeline = Pipeline([(\"TV\", TfidfVectorizer()),\n",
    "                       (\"NaiveBayes\", MultinomialNB())])"
   ]
  },
  {
   "cell_type": "code",
   "execution_count": 78,
   "metadata": {},
   "outputs": [
    {
     "data": {
      "text/plain": [
       "Pipeline(steps=[('TV', TfidfVectorizer()), ('NaiveBayes', MultinomialNB())])"
      ]
     },
     "execution_count": 78,
     "metadata": {},
     "output_type": "execute_result"
    }
   ],
   "source": [
    "NBpipeline.fit(X_train, y_train)"
   ]
  },
  {
   "cell_type": "code",
   "execution_count": 79,
   "metadata": {},
   "outputs": [
    {
     "name": "stdout",
     "output_type": "stream",
     "text": [
      "train accuracy:  90.42  %\n",
      "cross validation accuracy:  [80.73 82.57 82.57 88.89 81.48]\n",
      "\n",
      "\u001b[1mTest Data:\n",
      "\u001b[0mtest accuracy:  74.59  %\n",
      "precision score:  81.71  %\n",
      "f1 score: 69.35  %\n"
     ]
    },
    {
     "data": {
      "image/png": "[encoded data removed]",
      "text/plain": [
       "<Figure size 432x288 with 2 Axes>"
      ]
     },
     "metadata": {
      "needs_background": "light"
     },
     "output_type": "display_data"
    }
   ],
   "source": [
    "evaluate_model(NBpipeline, X_train, y_train, X_test, y_test)"
   ]
  },
  {
   "cell_type": "markdown",
   "metadata": {},
   "source": [
    "### Prediction"
   ]
  },
  {
   "cell_type": "code",
   "execution_count": 81,
   "metadata": {},
   "outputs": [],
   "source": [
    "lr= LogisticRegression(C=1e5)"
   ]
  },
  {
   "cell_type": "code",
   "execution_count": 82,
   "metadata": {},
   "outputs": [
    {
     "data": {
      "text/plain": [
       "LogisticRegression(C=100000.0)"
      ]
     },
     "execution_count": 82,
     "metadata": {},
     "output_type": "execute_result"
    }
   ],
   "source": [
    "lr.fit(Xtrain, y_train)"
   ]
  },
  {
   "cell_type": "code",
   "execution_count": 83,
   "metadata": {},
   "outputs": [
    {
     "data": {
      "text/plain": [
       "array(['Alicia Keys', 'Alicia Keys', 'Alicia Keys', 'Alicia Keys',\n",
       "       'Alicia Keys', 'Alicia Keys', 'The Kooks', 'The Kooks',\n",
       "       'Alicia Keys', 'Alicia Keys', 'Alicia Keys', 'The Kooks',\n",
       "       'Alicia Keys', 'Alicia Keys', 'Alicia Keys', 'Alicia Keys',\n",
       "       'The Kooks', 'The Kooks', 'The Kooks', 'Alicia Keys', 'The Kooks',\n",
       "       'The Kooks', 'Alicia Keys', 'The Kooks', 'The Kooks',\n",
       "       'Alicia Keys', 'Alicia Keys', 'Alicia Keys', 'Alicia Keys',\n",
       "       'The Kooks', 'The Kooks', 'Alicia Keys', 'Alicia Keys',\n",
       "       'Alicia Keys', 'Alicia Keys', 'Alicia Keys', 'Alicia Keys',\n",
       "       'The Kooks', 'Alicia Keys', 'Alicia Keys', 'Alicia Keys',\n",
       "       'The Kooks', 'The Kooks', 'Alicia Keys', 'Alicia Keys',\n",
       "       'Alicia Keys', 'Alicia Keys', 'Alicia Keys', 'Alicia Keys',\n",
       "       'Alicia Keys', 'The Kooks', 'Alicia Keys', 'The Kooks',\n",
       "       'Alicia Keys', 'Alicia Keys', 'Alicia Keys', 'Alicia Keys',\n",
       "       'Alicia Keys', 'Alicia Keys', 'Alicia Keys', 'Alicia Keys',\n",
       "       'Alicia Keys', 'The Kooks', 'Alicia Keys', 'Alicia Keys',\n",
       "       'Alicia Keys', 'Alicia Keys', 'Alicia Keys', 'The Kooks',\n",
       "       'Alicia Keys', 'Alicia Keys', 'The Kooks', 'Alicia Keys',\n",
       "       'Alicia Keys', 'Alicia Keys', 'Alicia Keys', 'The Kooks',\n",
       "       'Alicia Keys', 'Alicia Keys', 'Alicia Keys', 'Alicia Keys',\n",
       "       'Alicia Keys', 'Alicia Keys', 'Alicia Keys', 'Alicia Keys',\n",
       "       'The Kooks', 'Alicia Keys', 'The Kooks', 'The Kooks', 'The Kooks',\n",
       "       'The Kooks', 'Alicia Keys', 'Alicia Keys', 'Alicia Keys',\n",
       "       'The Kooks', 'The Kooks', 'Alicia Keys', 'Alicia Keys',\n",
       "       'Alicia Keys', 'Alicia Keys', 'Alicia Keys', 'The Kooks',\n",
       "       'The Kooks', 'Alicia Keys', 'Alicia Keys', 'Alicia Keys',\n",
       "       'The Kooks', 'The Kooks', 'Alicia Keys', 'Alicia Keys',\n",
       "       'Alicia Keys', 'The Kooks', 'Alicia Keys', 'Alicia Keys',\n",
       "       'Alicia Keys', 'Alicia Keys', 'Alicia Keys', 'Alicia Keys',\n",
       "       'Alicia Keys', 'The Kooks', 'Alicia Keys', 'Alicia Keys',\n",
       "       'The Kooks', 'The Kooks', 'The Kooks', 'The Kooks', 'The Kooks',\n",
       "       'Alicia Keys', 'Alicia Keys', 'The Kooks', 'Alicia Keys',\n",
       "       'Alicia Keys', 'The Kooks', 'The Kooks', 'The Kooks',\n",
       "       'Alicia Keys', 'Alicia Keys', 'Alicia Keys', 'The Kooks',\n",
       "       'Alicia Keys', 'Alicia Keys', 'Alicia Keys', 'Alicia Keys',\n",
       "       'Alicia Keys', 'The Kooks', 'Alicia Keys', 'Alicia Keys',\n",
       "       'Alicia Keys', 'Alicia Keys', 'Alicia Keys', 'Alicia Keys',\n",
       "       'The Kooks', 'The Kooks', 'The Kooks', 'Alicia Keys',\n",
       "       'Alicia Keys', 'The Kooks', 'Alicia Keys', 'Alicia Keys',\n",
       "       'The Kooks', 'Alicia Keys', 'The Kooks', 'Alicia Keys',\n",
       "       'Alicia Keys', 'The Kooks', 'Alicia Keys', 'Alicia Keys',\n",
       "       'Alicia Keys', 'Alicia Keys', 'Alicia Keys', 'Alicia Keys',\n",
       "       'Alicia Keys', 'The Kooks', 'Alicia Keys', 'Alicia Keys',\n",
       "       'The Kooks', 'Alicia Keys', 'Alicia Keys', 'Alicia Keys',\n",
       "       'Alicia Keys', 'The Kooks'], dtype='<U11')"
      ]
     },
     "execution_count": 83,
     "metadata": {},
     "output_type": "execute_result"
    }
   ],
   "source": [
    "lr.predict(Xtest)"
   ]
  },
  {
   "cell_type": "code",
   "execution_count": 84,
   "metadata": {},
   "outputs": [],
   "source": [
    "def predict(lyrics_input):\n",
    "    lyrics_list = [lyrics_input]\n",
    "    test_corpus = tv.transform(lyrics_list)\n",
    "    \n",
    "    lyrics_final= pd.DataFrame(test_corpus.todense().round(2), columns=tv.get_feature_names())\n",
    "\n",
    "    prediction = lr.predict(lyrics_final)\n",
    "    print(prediction)"
   ]
  },
  {
   "cell_type": "code",
   "execution_count": 85,
   "metadata": {
    "scrolled": true
   },
   "outputs": [
    {
     "name": "stdout",
     "output_type": "stream",
     "text": [
      "Please enter some lyricsI love you baby\n"
     ]
    }
   ],
   "source": [
    "lyrics_input = input(\"Please enter some lyrics\")"
   ]
  },
  {
   "cell_type": "code",
   "execution_count": 86,
   "metadata": {},
   "outputs": [
    {
     "name": "stdout",
     "output_type": "stream",
     "text": [
      "['Alicia Keys']\n"
     ]
    }
   ],
   "source": [
    "predict(lyrics_input)"
   ]
  },
  {
   "cell_type": "markdown",
   "metadata": {},
   "source": [
    "### Undersampling"
   ]
  },
  {
   "cell_type": "code",
   "execution_count": 87,
   "metadata": {},
   "outputs": [],
   "source": [
    "rus = RandomUnderSampler(sampling_strategy={\"Alicia Keys\":50})\n",
    "nm = NearMiss(sampling_strategy={\"Alicia Keys\":50})"
   ]
  },
  {
   "cell_type": "code",
   "execution_count": 88,
   "metadata": {},
   "outputs": [],
   "source": [
    "X_rus, y_rus = rus.fit_resample(Xtrain, y_train)\n",
    "X_nm, y_nm = nm.fit_resample(Xtrain, y_train)"
   ]
  },
  {
   "cell_type": "code",
   "execution_count": 89,
   "metadata": {},
   "outputs": [],
   "source": [
    "lr.fit(X_rus, y_rus)\n",
    "ypred_rus = lr.predict(Xtest)"
   ]
  },
  {
   "cell_type": "code",
   "execution_count": 91,
   "metadata": {},
   "outputs": [
    {
     "name": "stdout",
     "output_type": "stream",
     "text": [
      "['The Kooks']\n"
     ]
    }
   ],
   "source": [
    "predict(lyrics_input)"
   ]
  },
  {
   "cell_type": "markdown",
   "metadata": {},
   "source": [
    "### Oversampling"
   ]
  },
  {
   "cell_type": "code",
   "execution_count": 92,
   "metadata": {},
   "outputs": [],
   "source": [
    "ros = RandomOverSampler(sampling_strategy={'The Kooks':382})"
   ]
  },
  {
   "cell_type": "code",
   "execution_count": 93,
   "metadata": {},
   "outputs": [],
   "source": [
    "X_ros, y_ros = ros.fit_resample(Xtrain, y_train)"
   ]
  },
  {
   "cell_type": "code",
   "execution_count": 97,
   "metadata": {},
   "outputs": [
    {
     "data": {
      "text/plain": [
       "(array(['Alicia Keys', 'The Kooks'], dtype='<U11'), array([382, 382]))"
      ]
     },
     "execution_count": 97,
     "metadata": {},
     "output_type": "execute_result"
    }
   ],
   "source": [
    "np.unique(y_ros, return_counts=True)"
   ]
  },
  {
   "cell_type": "code",
   "execution_count": 98,
   "metadata": {
    "scrolled": true
   },
   "outputs": [
    {
     "data": {
      "text/plain": [
       "LogisticRegression(C=100000.0)"
      ]
     },
     "execution_count": 98,
     "metadata": {},
     "output_type": "execute_result"
    }
   ],
   "source": [
    "lr.fit(X_ros, y_ros)"
   ]
  },
  {
   "cell_type": "code",
   "execution_count": 99,
   "metadata": {},
   "outputs": [
    {
     "name": "stdout",
     "output_type": "stream",
     "text": [
      "['Alicia Keys']\n"
     ]
    }
   ],
   "source": [
    "predict(lyrics_input)"
   ]
  }
 ],
 "metadata": {
  "kernelspec": {
   "display_name": "Python 3",
   "language": "python",
   "name": "python3"
  },
  "language_info": {
   "codemirror_mode": {
    "name": "ipython",
    "version": 3
   },
   "file_extension": ".py",
   "mimetype": "text/x-python",
   "name": "python",
   "nbconvert_exporter": "python",
   "pygments_lexer": "ipython3",
   "version": "3.8.3"
  }
 },
 "nbformat": 4,
 "nbformat_minor": 4
}
