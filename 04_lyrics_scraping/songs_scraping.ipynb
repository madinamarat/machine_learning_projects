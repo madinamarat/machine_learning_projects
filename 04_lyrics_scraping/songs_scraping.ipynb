{
 "cells": [
  {
   "cell_type": "code",
   "execution_count": 1,
   "metadata": {},
   "outputs": [],
   "source": [
    "import requests\n",
    "import re\n",
    "import pandas as pd"
   ]
  },
  {
   "cell_type": "markdown",
   "metadata": {},
   "source": [
    "### Kooks"
   ]
  },
  {
   "cell_type": "code",
   "execution_count": 2,
   "metadata": {},
   "outputs": [
    {
     "data": {
      "text/plain": [
       "200"
      ]
     },
     "execution_count": 2,
     "metadata": {},
     "output_type": "execute_result"
    }
   ],
   "source": [
    "kooks=requests.get('https://www.lyrics.com/artist/The-Kooks/762797')\n",
    "kooks.status_code"
   ]
  },
  {
   "cell_type": "code",
   "execution_count": 3,
   "metadata": {},
   "outputs": [],
   "source": [
    "with open('kooks.html', 'w', encoding='utf-8') as file:\n",
    "    file.write(kooks.text)"
   ]
  },
  {
   "cell_type": "code",
   "execution_count": 4,
   "metadata": {},
   "outputs": [],
   "source": [
    "def scraping(text):\n",
    "    pattern = '''a href=\"/lyric.+?<'''\n",
    "    new_list=re.findall(pattern,text)  \n",
    "    new_list=[i.replace('a href=\"/','') for i in new_list]\n",
    "    new_list=[k.replace('''\"''','') for k in new_list]\n",
    "    new_list=[j.split('>') for j in new_list]\n",
    "    new_list=pd.DataFrame(new_list)\n",
    "    new_list.columns = ['link', 'song']\n",
    "    new_list['link']='https://www.lyrics.com/'+new_list['link']\n",
    "    new_list['song']=new_list['song'].str.rstrip('<')\n",
    "    return new_list"
   ]
  },
  {
   "cell_type": "code",
   "execution_count": 5,
   "metadata": {},
   "outputs": [],
   "source": [
    "kooks_list=scraping(kooks.text)"
   ]
  },
  {
   "cell_type": "code",
   "execution_count": 6,
   "metadata": {},
   "outputs": [],
   "source": [
    "kooks_list['group']='Kooks'"
   ]
  },
  {
   "cell_type": "code",
   "execution_count": 7,
   "metadata": {},
   "outputs": [
    {
     "data": {
      "text/plain": [
       "(339, 3)"
      ]
     },
     "execution_count": 7,
     "metadata": {},
     "output_type": "execute_result"
    }
   ],
   "source": [
    "kooks_list.shape"
   ]
  },
  {
   "cell_type": "markdown",
   "metadata": {},
   "source": [
    "### Alicia Keys"
   ]
  },
  {
   "cell_type": "code",
   "execution_count": 8,
   "metadata": {},
   "outputs": [
    {
     "data": {
      "text/plain": [
       "200"
      ]
     },
     "execution_count": 8,
     "metadata": {},
     "output_type": "execute_result"
    }
   ],
   "source": [
    "alicia=requests.get('https://www.lyrics.com/artist/Alicia-Keys/469431')\n",
    "alicia.status_code"
   ]
  },
  {
   "cell_type": "code",
   "execution_count": 9,
   "metadata": {},
   "outputs": [],
   "source": [
    "with open('alicia.html', 'w', encoding='utf-8') as file:\n",
    "    file.write(alicia.text)"
   ]
  },
  {
   "cell_type": "code",
   "execution_count": 10,
   "metadata": {},
   "outputs": [],
   "source": [
    "alicia_list=scraping(alicia.text)"
   ]
  },
  {
   "cell_type": "code",
   "execution_count": 11,
   "metadata": {},
   "outputs": [],
   "source": [
    "alicia_list['group']='Alicia Keys'"
   ]
  },
  {
   "cell_type": "code",
   "execution_count": 12,
   "metadata": {},
   "outputs": [
    {
     "data": {
      "text/plain": [
       "0    https://www.lyrics.com/lyric/36189158/Alicia+K...\n",
       "1    https://www.lyrics.com/lyric/35347587/Alicia+K...\n",
       "2    https://www.lyrics.com/lyric/35347573/Alicia+K...\n",
       "3    https://www.lyrics.com/lyric/35347550/Alicia+K...\n",
       "4    https://www.lyrics.com/lyric/34843890/Alicia+K...\n",
       "5    https://www.lyrics.com/lyric/35027821/Alicia+K...\n",
       "6    https://www.lyrics.com/lyric/34868129/Alicia+K...\n",
       "7    https://www.lyrics.com/lyric/35088426/Alicia+K...\n",
       "8    https://www.lyrics.com/lyric/34725091/Alicia+K...\n",
       "9    https://www.lyrics.com/lyric/34033673/Alicia+K...\n",
       "Name: link, dtype: object"
      ]
     },
     "execution_count": 12,
     "metadata": {},
     "output_type": "execute_result"
    }
   ],
   "source": [
    "alicia_list['link'].head(10)"
   ]
  },
  {
   "cell_type": "code",
   "execution_count": 13,
   "metadata": {},
   "outputs": [
    {
     "data": {
      "text/plain": [
       "(1120, 3)"
      ]
     },
     "execution_count": 13,
     "metadata": {},
     "output_type": "execute_result"
    }
   ],
   "source": [
    "alicia_list.shape"
   ]
  },
  {
   "cell_type": "code",
   "execution_count": 14,
   "metadata": {},
   "outputs": [],
   "source": [
    "alicia_list.to_csv('alicia1.csv',index=False)"
   ]
  },
  {
   "cell_type": "code",
   "execution_count": 15,
   "metadata": {},
   "outputs": [],
   "source": [
    "songs_list=kooks_list.append(alicia_list) "
   ]
  },
  {
   "cell_type": "code",
   "execution_count": 16,
   "metadata": {},
   "outputs": [
    {
     "data": {
      "text/html": [
       "<div>\n",
       "<style scoped>\n",
       "    .dataframe tbody tr th:only-of-type {\n",
       "        vertical-align: middle;\n",
       "    }\n",
       "\n",
       "    .dataframe tbody tr th {\n",
       "        vertical-align: top;\n",
       "    }\n",
       "\n",
       "    .dataframe thead th {\n",
       "        text-align: right;\n",
       "    }\n",
       "</style>\n",
       "<table border=\"1\" class=\"dataframe\">\n",
       "  <thead>\n",
       "    <tr style=\"text-align: right;\">\n",
       "      <th></th>\n",
       "      <th>link</th>\n",
       "      <th>song</th>\n",
       "      <th>group</th>\n",
       "    </tr>\n",
       "  </thead>\n",
       "  <tbody>\n",
       "    <tr>\n",
       "      <th>0</th>\n",
       "      <td>https://www.lyrics.com/lyric/34760352/The+Kook...</td>\n",
       "      <td>She Moves in Her Own Way</td>\n",
       "      <td>Kooks</td>\n",
       "    </tr>\n",
       "    <tr>\n",
       "      <th>1</th>\n",
       "      <td>https://www.lyrics.com/lyric/34760337/The+Kook...</td>\n",
       "      <td>Seaside</td>\n",
       "      <td>Kooks</td>\n",
       "    </tr>\n",
       "  </tbody>\n",
       "</table>\n",
       "</div>"
      ],
      "text/plain": [
       "                                                link  \\\n",
       "0  https://www.lyrics.com/lyric/34760352/The+Kook...   \n",
       "1  https://www.lyrics.com/lyric/34760337/The+Kook...   \n",
       "\n",
       "                       song  group  \n",
       "0  She Moves in Her Own Way  Kooks  \n",
       "1                   Seaside  Kooks  "
      ]
     },
     "execution_count": 16,
     "metadata": {},
     "output_type": "execute_result"
    }
   ],
   "source": [
    "songs_list.head(2)"
   ]
  }
 ],
 "metadata": {
  "kernelspec": {
   "display_name": "Python 3",
   "language": "python",
   "name": "python3"
  },
  "language_info": {
   "codemirror_mode": {
    "name": "ipython",
    "version": 3
   },
   "file_extension": ".py",
   "mimetype": "text/x-python",
   "name": "python",
   "nbconvert_exporter": "python",
   "pygments_lexer": "ipython3",
   "version": "3.8.3"
  }
 },
 "nbformat": 4,
 "nbformat_minor": 4
}
