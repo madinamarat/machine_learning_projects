{
 "cells": [
  {
   "cell_type": "code",
   "execution_count": 1,
   "metadata": {},
   "outputs": [],
   "source": [
    "import pandas as pd\n",
    "import numpy as np\n",
    "import seaborn as sns\n",
    "import matplotlib.pyplot as plt\n",
    "from sklearn.model_selection import train_test_split\n",
    "from sklearn.linear_model import LinearRegression\n",
    "from sklearn.preprocessing import OneHotEncoder\n",
    "from sklearn.preprocessing import PolynomialFeatures\n",
    "from sklearn.linear_model import Ridge\n",
    "from sklearn.linear_model import Lasso\n",
    "from sklearn.linear_model import ElasticNet\n",
    "from sklearn import metrics\n",
    "from sklearn.model_selection import GridSearchCV\n",
    "from sklearn.pipeline import make_pipeline\n",
    "from sklearn.ensemble import VotingRegressor "
   ]
  },
  {
   "cell_type": "markdown",
   "metadata": {},
   "source": [
    "### Reading data"
   ]
  },
  {
   "cell_type": "code",
   "execution_count": 2,
   "metadata": {
    "scrolled": true
   },
   "outputs": [
    {
     "data": {
      "text/html": [
       "<div>\n",
       "<style scoped>\n",
       "    .dataframe tbody tr th:only-of-type {\n",
       "        vertical-align: middle;\n",
       "    }\n",
       "\n",
       "    .dataframe tbody tr th {\n",
       "        vertical-align: top;\n",
       "    }\n",
       "\n",
       "    .dataframe thead th {\n",
       "        text-align: right;\n",
       "    }\n",
       "</style>\n",
       "<table border=\"1\" class=\"dataframe\">\n",
       "  <thead>\n",
       "    <tr style=\"text-align: right;\">\n",
       "      <th></th>\n",
       "      <th>season</th>\n",
       "      <th>holiday</th>\n",
       "      <th>workingday</th>\n",
       "      <th>weather</th>\n",
       "      <th>temp</th>\n",
       "      <th>atemp</th>\n",
       "      <th>humidity</th>\n",
       "      <th>windspeed</th>\n",
       "      <th>casual</th>\n",
       "      <th>registered</th>\n",
       "      <th>count</th>\n",
       "    </tr>\n",
       "    <tr>\n",
       "      <th>datetime</th>\n",
       "      <th></th>\n",
       "      <th></th>\n",
       "      <th></th>\n",
       "      <th></th>\n",
       "      <th></th>\n",
       "      <th></th>\n",
       "      <th></th>\n",
       "      <th></th>\n",
       "      <th></th>\n",
       "      <th></th>\n",
       "      <th></th>\n",
       "    </tr>\n",
       "  </thead>\n",
       "  <tbody>\n",
       "    <tr>\n",
       "      <th>2011-01-01 00:00:00</th>\n",
       "      <td>1</td>\n",
       "      <td>0</td>\n",
       "      <td>0</td>\n",
       "      <td>1</td>\n",
       "      <td>9.84</td>\n",
       "      <td>14.395</td>\n",
       "      <td>81</td>\n",
       "      <td>0.0</td>\n",
       "      <td>3</td>\n",
       "      <td>13</td>\n",
       "      <td>16</td>\n",
       "    </tr>\n",
       "    <tr>\n",
       "      <th>2011-01-01 01:00:00</th>\n",
       "      <td>1</td>\n",
       "      <td>0</td>\n",
       "      <td>0</td>\n",
       "      <td>1</td>\n",
       "      <td>9.02</td>\n",
       "      <td>13.635</td>\n",
       "      <td>80</td>\n",
       "      <td>0.0</td>\n",
       "      <td>8</td>\n",
       "      <td>32</td>\n",
       "      <td>40</td>\n",
       "    </tr>\n",
       "    <tr>\n",
       "      <th>2011-01-01 02:00:00</th>\n",
       "      <td>1</td>\n",
       "      <td>0</td>\n",
       "      <td>0</td>\n",
       "      <td>1</td>\n",
       "      <td>9.02</td>\n",
       "      <td>13.635</td>\n",
       "      <td>80</td>\n",
       "      <td>0.0</td>\n",
       "      <td>5</td>\n",
       "      <td>27</td>\n",
       "      <td>32</td>\n",
       "    </tr>\n",
       "  </tbody>\n",
       "</table>\n",
       "</div>"
      ],
      "text/plain": [
       "                     season  holiday  workingday  weather  temp   atemp  \\\n",
       "datetime                                                                  \n",
       "2011-01-01 00:00:00       1        0           0        1  9.84  14.395   \n",
       "2011-01-01 01:00:00       1        0           0        1  9.02  13.635   \n",
       "2011-01-01 02:00:00       1        0           0        1  9.02  13.635   \n",
       "\n",
       "                     humidity  windspeed  casual  registered  count  \n",
       "datetime                                                             \n",
       "2011-01-01 00:00:00        81        0.0       3          13     16  \n",
       "2011-01-01 01:00:00        80        0.0       8          32     40  \n",
       "2011-01-01 02:00:00        80        0.0       5          27     32  "
      ]
     },
     "execution_count": 2,
     "metadata": {},
     "output_type": "execute_result"
    }
   ],
   "source": [
    "df=pd.read_csv('./data/train.csv',sep=',',parse_dates=True, index_col=0)\n",
    "df.head(3)"
   ]
  },
  {
   "cell_type": "markdown",
   "metadata": {},
   "source": [
    "### Train/test split"
   ]
  },
  {
   "cell_type": "code",
   "execution_count": 3,
   "metadata": {},
   "outputs": [],
   "source": [
    "X = df.drop(['casual', 'registered'],axis=1)"
   ]
  },
  {
   "cell_type": "code",
   "execution_count": 4,
   "metadata": {},
   "outputs": [],
   "source": [
    "y=df['count']"
   ]
  },
  {
   "cell_type": "code",
   "execution_count": 5,
   "metadata": {},
   "outputs": [],
   "source": [
    "X_train, X_test, y_train, y_test = train_test_split(X, y, random_state=0)"
   ]
  },
  {
   "cell_type": "code",
   "execution_count": 6,
   "metadata": {},
   "outputs": [
    {
     "data": {
      "text/plain": [
       "((8164, 9), (8164,))"
      ]
     },
     "execution_count": 6,
     "metadata": {},
     "output_type": "execute_result"
    }
   ],
   "source": [
    "X_train.shape, y_train.shape"
   ]
  },
  {
   "cell_type": "code",
   "execution_count": 7,
   "metadata": {},
   "outputs": [
    {
     "data": {
      "text/plain": [
       "((2722, 9), (2722,))"
      ]
     },
     "execution_count": 7,
     "metadata": {},
     "output_type": "execute_result"
    }
   ],
   "source": [
    "X_test.shape, y_test.shape"
   ]
  },
  {
   "cell_type": "markdown",
   "metadata": {},
   "source": [
    "### Feature engineering"
   ]
  },
  {
   "cell_type": "code",
   "execution_count": 8,
   "metadata": {},
   "outputs": [],
   "source": [
    "def feature_eng(df):\n",
    "    df = df.copy()\n",
    "\n",
    "#additional columns from datetime\n",
    "    df['hour']=df.index.hour\n",
    "    df['month']=df.index.month   \n",
    "    df.drop(columns=['atemp','season'], axis=1, inplace=True)        \n",
    "    encoded_columns = ['workingday', 'hour','month','weather'] \n",
    "    df = pd.get_dummies(df, columns=encoded_columns)\n",
    "    return df"
   ]
  },
  {
   "cell_type": "code",
   "execution_count": 9,
   "metadata": {},
   "outputs": [],
   "source": [
    "X_train_fe = feature_eng(X_train)"
   ]
  },
  {
   "cell_type": "code",
   "execution_count": 10,
   "metadata": {},
   "outputs": [],
   "source": [
    "X_test_fe = feature_eng(X_test)"
   ]
  },
  {
   "cell_type": "markdown",
   "metadata": {},
   "source": [
    "### Polynomial Features"
   ]
  },
  {
   "cell_type": "code",
   "execution_count": 11,
   "metadata": {},
   "outputs": [],
   "source": [
    "def poly(X_train_fe):\n",
    "    pt = PolynomialFeatures(interaction_only=True, degree=3)\n",
    "    X_train_fe.reset_index(inplace=True)\n",
    "    Xp = X_train_fe[['humidity','temp','windspeed']]\n",
    "    p_features = pt.fit_transform(Xp)\n",
    "    df_poly=pd.DataFrame(p_features, columns=pt.get_feature_names())\n",
    "    X_train_fe=X_train_fe.join(df_poly)\n",
    "    X_train_fe.set_index('datetime', inplace=True)\n",
    "    return X_train_fe"
   ]
  },
  {
   "cell_type": "code",
   "execution_count": 12,
   "metadata": {},
   "outputs": [],
   "source": [
    "X_train_fep=poly(X_train_fe)"
   ]
  },
  {
   "cell_type": "code",
   "execution_count": 13,
   "metadata": {},
   "outputs": [],
   "source": [
    "X_test_fep=poly(X_test_fe)"
   ]
  },
  {
   "cell_type": "markdown",
   "metadata": {},
   "source": [
    "### Selecting features"
   ]
  },
  {
   "cell_type": "code",
   "execution_count": 14,
   "metadata": {},
   "outputs": [
    {
     "data": {
      "text/plain": [
       "Text(0.5, 1.0, 'Correlation matrix')"
      ]
     },
     "execution_count": 14,
     "metadata": {},
     "output_type": "execute_result"
    },
    {
     "data": {
      "image/png": "[encoded data removed]",
      "text/plain": [
       "<Figure size 864x576 with 2 Axes>"
      ]
     },
     "metadata": {
      "needs_background": "light"
     },
     "output_type": "display_data"
    }
   ],
   "source": [
    "#Correlation matrix with new features\n",
    "def feature(df):\n",
    "    df = df.copy()\n",
    "    df['hour']=df.index.hour\n",
    "    df['month']=df.index.month\n",
    "    #df['weekday']=df.index.weekday\n",
    "    df.drop(columns=['atemp','season'], axis=1, inplace=True)        \n",
    "    return df\n",
    "mat=feature(X_train)\n",
    "mask = np.triu(np.ones_like(mat.corr(), dtype=np.bool))\n",
    "fig, ax = plt.subplots(figsize = (12, 8)) \n",
    "sns.heatmap(mat.corr(), mask=mask, annot=True, cmap='Greens', linewidths=0.1,square=True)\n",
    "plt.title('Correlation matrix')"
   ]
  },
  {
   "cell_type": "markdown",
   "metadata": {},
   "source": [
    "#### - we can see a very strong correlation between month and season, so one of the features should be deleted\n",
    "#### - significant negative correlation between weekday and workingday"
   ]
  },
  {
   "cell_type": "code",
   "execution_count": 15,
   "metadata": {},
   "outputs": [],
   "source": [
    "from statsmodels.api import OLS, add_constant\n",
    "X_train_ols=X_train_fep.drop(columns=['count','workingday_1','holiday','1','x0','x1','x2'],axis=1)\n",
    "ols = OLS(y_train, add_constant(X_train_ols))"
   ]
  },
  {
   "cell_type": "code",
   "execution_count": 16,
   "metadata": {},
   "outputs": [],
   "source": [
    "ols_results = ols.fit()"
   ]
  },
  {
   "cell_type": "code",
   "execution_count": 17,
   "metadata": {
    "scrolled": false
   },
   "outputs": [
    {
     "data": {
      "text/html": [
       "<table class=\"simpletable\">\n",
       "<caption>OLS Regression Results</caption>\n",
       "<tr>\n",
       "  <th>Dep. Variable:</th>          <td>count</td>      <th>  R-squared:         </th> <td>   0.648</td> \n",
       "</tr>\n",
       "<tr>\n",
       "  <th>Model:</th>                   <td>OLS</td>       <th>  Adj. R-squared:    </th> <td>   0.646</td> \n",
       "</tr>\n",
       "<tr>\n",
       "  <th>Method:</th>             <td>Least Squares</td>  <th>  F-statistic:       </th> <td>   331.5</td> \n",
       "</tr>\n",
       "<tr>\n",
       "  <th>Date:</th>             <td>Sun, 13 Dec 2020</td> <th>  Prob (F-statistic):</th>  <td>  0.00</td>  \n",
       "</tr>\n",
       "<tr>\n",
       "  <th>Time:</th>                 <td>14:27:02</td>     <th>  Log-Likelihood:    </th> <td> -49776.</td> \n",
       "</tr>\n",
       "<tr>\n",
       "  <th>No. Observations:</th>      <td>  8164</td>      <th>  AIC:               </th> <td>9.964e+04</td>\n",
       "</tr>\n",
       "<tr>\n",
       "  <th>Df Residuals:</th>          <td>  8118</td>      <th>  BIC:               </th> <td>9.997e+04</td>\n",
       "</tr>\n",
       "<tr>\n",
       "  <th>Df Model:</th>              <td>    45</td>      <th>                     </th>     <td> </td>    \n",
       "</tr>\n",
       "<tr>\n",
       "  <th>Covariance Type:</th>      <td>nonrobust</td>    <th>                     </th>     <td> </td>    \n",
       "</tr>\n",
       "</table>\n",
       "<table class=\"simpletable\">\n",
       "<tr>\n",
       "        <td></td>          <th>coef</th>     <th>std err</th>      <th>t</th>      <th>P>|t|</th>  <th>[0.025</th>    <th>0.975]</th>  \n",
       "</tr>\n",
       "<tr>\n",
       "  <th>const</th>        <td>  -25.7648</td> <td>   25.840</td> <td>   -0.997</td> <td> 0.319</td> <td>  -76.417</td> <td>   24.888</td>\n",
       "</tr>\n",
       "<tr>\n",
       "  <th>temp</th>         <td>   13.1523</td> <td>    1.042</td> <td>   12.626</td> <td> 0.000</td> <td>   11.110</td> <td>   15.194</td>\n",
       "</tr>\n",
       "<tr>\n",
       "  <th>humidity</th>     <td>    1.3400</td> <td>    0.336</td> <td>    3.983</td> <td> 0.000</td> <td>    0.681</td> <td>    1.999</td>\n",
       "</tr>\n",
       "<tr>\n",
       "  <th>windspeed</th>    <td>    0.0964</td> <td>    1.270</td> <td>    0.076</td> <td> 0.939</td> <td>   -2.393</td> <td>    2.585</td>\n",
       "</tr>\n",
       "<tr>\n",
       "  <th>workingday_0</th> <td>   -3.5042</td> <td>    2.573</td> <td>   -1.362</td> <td> 0.173</td> <td>   -8.548</td> <td>    1.539</td>\n",
       "</tr>\n",
       "<tr>\n",
       "  <th>hour_0</th>       <td> -118.9762</td> <td>    5.850</td> <td>  -20.338</td> <td> 0.000</td> <td> -130.444</td> <td> -107.509</td>\n",
       "</tr>\n",
       "<tr>\n",
       "  <th>hour_1</th>       <td> -138.1233</td> <td>    5.805</td> <td>  -23.795</td> <td> 0.000</td> <td> -149.502</td> <td> -126.745</td>\n",
       "</tr>\n",
       "<tr>\n",
       "  <th>hour_2</th>       <td> -151.9345</td> <td>    5.985</td> <td>  -25.387</td> <td> 0.000</td> <td> -163.666</td> <td> -140.203</td>\n",
       "</tr>\n",
       "<tr>\n",
       "  <th>hour_3</th>       <td> -158.2116</td> <td>    6.032</td> <td>  -26.231</td> <td> 0.000</td> <td> -170.035</td> <td> -146.388</td>\n",
       "</tr>\n",
       "<tr>\n",
       "  <th>hour_4</th>       <td> -160.2693</td> <td>    6.041</td> <td>  -26.530</td> <td> 0.000</td> <td> -172.111</td> <td> -148.427</td>\n",
       "</tr>\n",
       "<tr>\n",
       "  <th>hour_5</th>       <td> -143.7743</td> <td>    6.039</td> <td>  -23.806</td> <td> 0.000</td> <td> -155.613</td> <td> -131.935</td>\n",
       "</tr>\n",
       "<tr>\n",
       "  <th>hour_6</th>       <td>  -86.1676</td> <td>    5.960</td> <td>  -14.457</td> <td> 0.000</td> <td>  -97.851</td> <td>  -74.484</td>\n",
       "</tr>\n",
       "<tr>\n",
       "  <th>hour_7</th>       <td>   47.6321</td> <td>    5.950</td> <td>    8.005</td> <td> 0.000</td> <td>   35.968</td> <td>   59.296</td>\n",
       "</tr>\n",
       "<tr>\n",
       "  <th>hour_8</th>       <td>  198.6536</td> <td>    5.998</td> <td>   33.123</td> <td> 0.000</td> <td>  186.897</td> <td>  210.410</td>\n",
       "</tr>\n",
       "<tr>\n",
       "  <th>hour_9</th>       <td>   41.5683</td> <td>    5.861</td> <td>    7.092</td> <td> 0.000</td> <td>   30.079</td> <td>   53.058</td>\n",
       "</tr>\n",
       "<tr>\n",
       "  <th>hour_10</th>      <td>  -18.0528</td> <td>    5.766</td> <td>   -3.131</td> <td> 0.002</td> <td>  -29.355</td> <td>   -6.751</td>\n",
       "</tr>\n",
       "<tr>\n",
       "  <th>hour_11</th>      <td>    2.6894</td> <td>    5.889</td> <td>    0.457</td> <td> 0.648</td> <td>   -8.856</td> <td>   14.234</td>\n",
       "</tr>\n",
       "<tr>\n",
       "  <th>hour_12</th>      <td>   45.8632</td> <td>    5.987</td> <td>    7.661</td> <td> 0.000</td> <td>   34.128</td> <td>   57.598</td>\n",
       "</tr>\n",
       "<tr>\n",
       "  <th>hour_13</th>      <td>   35.3080</td> <td>    6.052</td> <td>    5.834</td> <td> 0.000</td> <td>   23.445</td> <td>   47.171</td>\n",
       "</tr>\n",
       "<tr>\n",
       "  <th>hour_14</th>      <td>   15.5556</td> <td>    5.982</td> <td>    2.600</td> <td> 0.009</td> <td>    3.829</td> <td>   27.283</td>\n",
       "</tr>\n",
       "<tr>\n",
       "  <th>hour_15</th>      <td>   24.1348</td> <td>    6.087</td> <td>    3.965</td> <td> 0.000</td> <td>   12.202</td> <td>   36.067</td>\n",
       "</tr>\n",
       "<tr>\n",
       "  <th>hour_16</th>      <td>   86.7258</td> <td>    6.078</td> <td>   14.269</td> <td> 0.000</td> <td>   74.812</td> <td>   98.640</td>\n",
       "</tr>\n",
       "<tr>\n",
       "  <th>hour_17</th>      <td>  245.7232</td> <td>    5.881</td> <td>   41.780</td> <td> 0.000</td> <td>  234.194</td> <td>  257.252</td>\n",
       "</tr>\n",
       "<tr>\n",
       "  <th>hour_18</th>      <td>  218.4199</td> <td>    5.864</td> <td>   37.251</td> <td> 0.000</td> <td>  206.926</td> <td>  229.914</td>\n",
       "</tr>\n",
       "<tr>\n",
       "  <th>hour_19</th>      <td>  110.5160</td> <td>    5.849</td> <td>   18.895</td> <td> 0.000</td> <td>   99.051</td> <td>  121.981</td>\n",
       "</tr>\n",
       "<tr>\n",
       "  <th>hour_20</th>      <td>   33.2920</td> <td>    5.761</td> <td>    5.779</td> <td> 0.000</td> <td>   21.998</td> <td>   44.586</td>\n",
       "</tr>\n",
       "<tr>\n",
       "  <th>hour_21</th>      <td>  -16.5647</td> <td>    5.861</td> <td>   -2.826</td> <td> 0.005</td> <td>  -28.053</td> <td>   -5.076</td>\n",
       "</tr>\n",
       "<tr>\n",
       "  <th>hour_22</th>      <td>  -51.4062</td> <td>    5.802</td> <td>   -8.860</td> <td> 0.000</td> <td>  -62.780</td> <td>  -40.032</td>\n",
       "</tr>\n",
       "<tr>\n",
       "  <th>hour_23</th>      <td>  -88.3661</td> <td>    5.801</td> <td>  -15.234</td> <td> 0.000</td> <td>  -99.737</td> <td>  -76.995</td>\n",
       "</tr>\n",
       "<tr>\n",
       "  <th>month_1</th>      <td>  -46.0304</td> <td>    5.627</td> <td>   -8.180</td> <td> 0.000</td> <td>  -57.061</td> <td>  -35.000</td>\n",
       "</tr>\n",
       "<tr>\n",
       "  <th>month_2</th>      <td>  -39.8421</td> <td>    5.378</td> <td>   -7.408</td> <td> 0.000</td> <td>  -50.385</td> <td>  -29.300</td>\n",
       "</tr>\n",
       "<tr>\n",
       "  <th>month_3</th>      <td>  -24.1088</td> <td>    4.658</td> <td>   -5.176</td> <td> 0.000</td> <td>  -33.240</td> <td>  -14.978</td>\n",
       "</tr>\n",
       "<tr>\n",
       "  <th>month_4</th>      <td>  -10.5295</td> <td>    4.520</td> <td>   -2.329</td> <td> 0.020</td> <td>  -19.390</td> <td>   -1.669</td>\n",
       "</tr>\n",
       "<tr>\n",
       "  <th>month_5</th>      <td>   20.4598</td> <td>    4.692</td> <td>    4.360</td> <td> 0.000</td> <td>   11.262</td> <td>   29.658</td>\n",
       "</tr>\n",
       "<tr>\n",
       "  <th>month_6</th>      <td>   -1.7045</td> <td>    5.350</td> <td>   -0.319</td> <td> 0.750</td> <td>  -12.192</td> <td>    8.783</td>\n",
       "</tr>\n",
       "<tr>\n",
       "  <th>month_7</th>      <td>  -28.2692</td> <td>    6.288</td> <td>   -4.496</td> <td> 0.000</td> <td>  -40.595</td> <td>  -15.943</td>\n",
       "</tr>\n",
       "<tr>\n",
       "  <th>month_8</th>      <td>  -19.7053</td> <td>    5.984</td> <td>   -3.293</td> <td> 0.001</td> <td>  -31.435</td> <td>   -7.976</td>\n",
       "</tr>\n",
       "<tr>\n",
       "  <th>month_9</th>      <td>   31.0089</td> <td>    5.246</td> <td>    5.911</td> <td> 0.000</td> <td>   20.726</td> <td>   41.292</td>\n",
       "</tr>\n",
       "<tr>\n",
       "  <th>month_10</th>     <td>   45.6708</td> <td>    4.631</td> <td>    9.861</td> <td> 0.000</td> <td>   36.592</td> <td>   54.749</td>\n",
       "</tr>\n",
       "<tr>\n",
       "  <th>month_11</th>     <td>   24.5430</td> <td>    4.783</td> <td>    5.131</td> <td> 0.000</td> <td>   15.166</td> <td>   33.920</td>\n",
       "</tr>\n",
       "<tr>\n",
       "  <th>month_12</th>     <td>   22.7426</td> <td>    5.033</td> <td>    4.519</td> <td> 0.000</td> <td>   12.877</td> <td>   32.608</td>\n",
       "</tr>\n",
       "<tr>\n",
       "  <th>weather_1</th>    <td>   50.7318</td> <td>   22.466</td> <td>    2.258</td> <td> 0.024</td> <td>    6.693</td> <td>   94.771</td>\n",
       "</tr>\n",
       "<tr>\n",
       "  <th>weather_2</th>    <td>   44.5916</td> <td>   22.516</td> <td>    1.980</td> <td> 0.048</td> <td>    0.455</td> <td>   88.728</td>\n",
       "</tr>\n",
       "<tr>\n",
       "  <th>weather_3</th>    <td>  -17.6092</td> <td>   22.735</td> <td>   -0.775</td> <td> 0.439</td> <td>  -62.175</td> <td>   26.957</td>\n",
       "</tr>\n",
       "<tr>\n",
       "  <th>weather_4</th>    <td> -103.4790</td> <td>   86.263</td> <td>   -1.200</td> <td> 0.230</td> <td> -272.577</td> <td>   65.619</td>\n",
       "</tr>\n",
       "<tr>\n",
       "  <th>x0 x1</th>        <td>   -0.1313</td> <td>    0.016</td> <td>   -8.177</td> <td> 0.000</td> <td>   -0.163</td> <td>   -0.100</td>\n",
       "</tr>\n",
       "<tr>\n",
       "  <th>x0 x2</th>        <td>   -0.0284</td> <td>    0.022</td> <td>   -1.281</td> <td> 0.200</td> <td>   -0.072</td> <td>    0.015</td>\n",
       "</tr>\n",
       "<tr>\n",
       "  <th>x1 x2</th>        <td>   -0.0594</td> <td>    0.061</td> <td>   -0.969</td> <td> 0.332</td> <td>   -0.179</td> <td>    0.061</td>\n",
       "</tr>\n",
       "<tr>\n",
       "  <th>x0 x1 x2</th>     <td>    0.0017</td> <td>    0.001</td> <td>    1.609</td> <td> 0.108</td> <td>   -0.000</td> <td>    0.004</td>\n",
       "</tr>\n",
       "</table>\n",
       "<table class=\"simpletable\">\n",
       "<tr>\n",
       "  <th>Omnibus:</th>       <td>820.337</td> <th>  Durbin-Watson:     </th> <td>   2.008</td>\n",
       "</tr>\n",
       "<tr>\n",
       "  <th>Prob(Omnibus):</th> <td> 0.000</td>  <th>  Jarque-Bera (JB):  </th> <td>1750.986</td>\n",
       "</tr>\n",
       "<tr>\n",
       "  <th>Skew:</th>          <td> 0.635</td>  <th>  Prob(JB):          </th> <td>    0.00</td>\n",
       "</tr>\n",
       "<tr>\n",
       "  <th>Kurtosis:</th>      <td> 4.879</td>  <th>  Cond. No.          </th> <td>1.47e+19</td>\n",
       "</tr>\n",
       "</table><br/><br/>Warnings:<br/>[1] Standard Errors assume that the covariance matrix of the errors is correctly specified.<br/>[2] The smallest eigenvalue is 1.36e-26. This might indicate that there are<br/>strong multicollinearity problems or that the design matrix is singular."
      ],
      "text/plain": [
       "<class 'statsmodels.iolib.summary.Summary'>\n",
       "\"\"\"\n",
       "                            OLS Regression Results                            \n",
       "==============================================================================\n",
       "Dep. Variable:                  count   R-squared:                       0.648\n",
       "Model:                            OLS   Adj. R-squared:                  0.646\n",
       "Method:                 Least Squares   F-statistic:                     331.5\n",
       "Date:                Sun, 13 Dec 2020   Prob (F-statistic):               0.00\n",
       "Time:                        14:27:02   Log-Likelihood:                -49776.\n",
       "No. Observations:                8164   AIC:                         9.964e+04\n",
       "Df Residuals:                    8118   BIC:                         9.997e+04\n",
       "Df Model:                          45                                         \n",
       "Covariance Type:            nonrobust                                         \n",
       "================================================================================\n",
       "                   coef    std err          t      P>|t|      [0.025      0.975]\n",
       "--------------------------------------------------------------------------------\n",
       "const          -25.7648     25.840     -0.997      0.319     -76.417      24.888\n",
       "temp            13.1523      1.042     12.626      0.000      11.110      15.194\n",
       "humidity         1.3400      0.336      3.983      0.000       0.681       1.999\n",
       "windspeed        0.0964      1.270      0.076      0.939      -2.393       2.585\n",
       "workingday_0    -3.5042      2.573     -1.362      0.173      -8.548       1.539\n",
       "hour_0        -118.9762      5.850    -20.338      0.000    -130.444    -107.509\n",
       "hour_1        -138.1233      5.805    -23.795      0.000    -149.502    -126.745\n",
       "hour_2        -151.9345      5.985    -25.387      0.000    -163.666    -140.203\n",
       "hour_3        -158.2116      6.032    -26.231      0.000    -170.035    -146.388\n",
       "hour_4        -160.2693      6.041    -26.530      0.000    -172.111    -148.427\n",
       "hour_5        -143.7743      6.039    -23.806      0.000    -155.613    -131.935\n",
       "hour_6         -86.1676      5.960    -14.457      0.000     -97.851     -74.484\n",
       "hour_7          47.6321      5.950      8.005      0.000      35.968      59.296\n",
       "hour_8         198.6536      5.998     33.123      0.000     186.897     210.410\n",
       "hour_9          41.5683      5.861      7.092      0.000      30.079      53.058\n",
       "hour_10        -18.0528      5.766     -3.131      0.002     -29.355      -6.751\n",
       "hour_11          2.6894      5.889      0.457      0.648      -8.856      14.234\n",
       "hour_12         45.8632      5.987      7.661      0.000      34.128      57.598\n",
       "hour_13         35.3080      6.052      5.834      0.000      23.445      47.171\n",
       "hour_14         15.5556      5.982      2.600      0.009       3.829      27.283\n",
       "hour_15         24.1348      6.087      3.965      0.000      12.202      36.067\n",
       "hour_16         86.7258      6.078     14.269      0.000      74.812      98.640\n",
       "hour_17        245.7232      5.881     41.780      0.000     234.194     257.252\n",
       "hour_18        218.4199      5.864     37.251      0.000     206.926     229.914\n",
       "hour_19        110.5160      5.849     18.895      0.000      99.051     121.981\n",
       "hour_20         33.2920      5.761      5.779      0.000      21.998      44.586\n",
       "hour_21        -16.5647      5.861     -2.826      0.005     -28.053      -5.076\n",
       "hour_22        -51.4062      5.802     -8.860      0.000     -62.780     -40.032\n",
       "hour_23        -88.3661      5.801    -15.234      0.000     -99.737     -76.995\n",
       "month_1        -46.0304      5.627     -8.180      0.000     -57.061     -35.000\n",
       "month_2        -39.8421      5.378     -7.408      0.000     -50.385     -29.300\n",
       "month_3        -24.1088      4.658     -5.176      0.000     -33.240     -14.978\n",
       "month_4        -10.5295      4.520     -2.329      0.020     -19.390      -1.669\n",
       "month_5         20.4598      4.692      4.360      0.000      11.262      29.658\n",
       "month_6         -1.7045      5.350     -0.319      0.750     -12.192       8.783\n",
       "month_7        -28.2692      6.288     -4.496      0.000     -40.595     -15.943\n",
       "month_8        -19.7053      5.984     -3.293      0.001     -31.435      -7.976\n",
       "month_9         31.0089      5.246      5.911      0.000      20.726      41.292\n",
       "month_10        45.6708      4.631      9.861      0.000      36.592      54.749\n",
       "month_11        24.5430      4.783      5.131      0.000      15.166      33.920\n",
       "month_12        22.7426      5.033      4.519      0.000      12.877      32.608\n",
       "weather_1       50.7318     22.466      2.258      0.024       6.693      94.771\n",
       "weather_2       44.5916     22.516      1.980      0.048       0.455      88.728\n",
       "weather_3      -17.6092     22.735     -0.775      0.439     -62.175      26.957\n",
       "weather_4     -103.4790     86.263     -1.200      0.230    -272.577      65.619\n",
       "x0 x1           -0.1313      0.016     -8.177      0.000      -0.163      -0.100\n",
       "x0 x2           -0.0284      0.022     -1.281      0.200      -0.072       0.015\n",
       "x1 x2           -0.0594      0.061     -0.969      0.332      -0.179       0.061\n",
       "x0 x1 x2         0.0017      0.001      1.609      0.108      -0.000       0.004\n",
       "==============================================================================\n",
       "Omnibus:                      820.337   Durbin-Watson:                   2.008\n",
       "Prob(Omnibus):                  0.000   Jarque-Bera (JB):             1750.986\n",
       "Skew:                           0.635   Prob(JB):                         0.00\n",
       "Kurtosis:                       4.879   Cond. No.                     1.47e+19\n",
       "==============================================================================\n",
       "\n",
       "Warnings:\n",
       "[1] Standard Errors assume that the covariance matrix of the errors is correctly specified.\n",
       "[2] The smallest eigenvalue is 1.36e-26. This might indicate that there are\n",
       "strong multicollinearity problems or that the design matrix is singular.\n",
       "\"\"\""
      ]
     },
     "execution_count": 17,
     "metadata": {},
     "output_type": "execute_result"
    }
   ],
   "source": [
    "ols_results.summary()"
   ]
  },
  {
   "cell_type": "code",
   "execution_count": 18,
   "metadata": {},
   "outputs": [],
   "source": [
    "def select(df):\n",
    "    df = df.copy()\n",
    "    df.drop(columns=['1','x0','x1','holiday','workingday_1','1', 'x0', 'x1', 'x2'], axis=1, inplace=True)\n",
    "    if set(['count']).issubset(df.columns):\n",
    "        df.drop(columns=['count'],axis=1, inplace=True)\n",
    "    if set(['weather_4']).issubset(df.columns):\n",
    "        df.drop(columns=['weather_4'],axis=1, inplace=True)\n",
    "    else:\n",
    "        return df\n",
    "    return df"
   ]
  },
  {
   "cell_type": "code",
   "execution_count": 19,
   "metadata": {},
   "outputs": [],
   "source": [
    "X_train_feps=select(X_train_fep)"
   ]
  },
  {
   "cell_type": "code",
   "execution_count": 20,
   "metadata": {},
   "outputs": [
    {
     "data": {
      "text/html": [
       "<div>\n",
       "<style scoped>\n",
       "    .dataframe tbody tr th:only-of-type {\n",
       "        vertical-align: middle;\n",
       "    }\n",
       "\n",
       "    .dataframe tbody tr th {\n",
       "        vertical-align: top;\n",
       "    }\n",
       "\n",
       "    .dataframe thead th {\n",
       "        text-align: right;\n",
       "    }\n",
       "</style>\n",
       "<table border=\"1\" class=\"dataframe\">\n",
       "  <thead>\n",
       "    <tr style=\"text-align: right;\">\n",
       "      <th></th>\n",
       "      <th>temp</th>\n",
       "      <th>humidity</th>\n",
       "      <th>windspeed</th>\n",
       "      <th>workingday_0</th>\n",
       "      <th>hour_0</th>\n",
       "      <th>hour_1</th>\n",
       "      <th>hour_2</th>\n",
       "      <th>hour_3</th>\n",
       "      <th>hour_4</th>\n",
       "      <th>hour_5</th>\n",
       "      <th>...</th>\n",
       "      <th>month_10</th>\n",
       "      <th>month_11</th>\n",
       "      <th>month_12</th>\n",
       "      <th>weather_1</th>\n",
       "      <th>weather_2</th>\n",
       "      <th>weather_3</th>\n",
       "      <th>x0 x1</th>\n",
       "      <th>x0 x2</th>\n",
       "      <th>x1 x2</th>\n",
       "      <th>x0 x1 x2</th>\n",
       "    </tr>\n",
       "    <tr>\n",
       "      <th>datetime</th>\n",
       "      <th></th>\n",
       "      <th></th>\n",
       "      <th></th>\n",
       "      <th></th>\n",
       "      <th></th>\n",
       "      <th></th>\n",
       "      <th></th>\n",
       "      <th></th>\n",
       "      <th></th>\n",
       "      <th></th>\n",
       "      <th></th>\n",
       "      <th></th>\n",
       "      <th></th>\n",
       "      <th></th>\n",
       "      <th></th>\n",
       "      <th></th>\n",
       "      <th></th>\n",
       "      <th></th>\n",
       "      <th></th>\n",
       "      <th></th>\n",
       "      <th></th>\n",
       "    </tr>\n",
       "  </thead>\n",
       "  <tbody>\n",
       "    <tr>\n",
       "      <th>2012-12-09 17:00:00</th>\n",
       "      <td>14.76</td>\n",
       "      <td>93</td>\n",
       "      <td>8.9981</td>\n",
       "      <td>1</td>\n",
       "      <td>0</td>\n",
       "      <td>0</td>\n",
       "      <td>0</td>\n",
       "      <td>0</td>\n",
       "      <td>0</td>\n",
       "      <td>0</td>\n",
       "      <td>...</td>\n",
       "      <td>0</td>\n",
       "      <td>0</td>\n",
       "      <td>1</td>\n",
       "      <td>0</td>\n",
       "      <td>0</td>\n",
       "      <td>1</td>\n",
       "      <td>1372.68</td>\n",
       "      <td>836.8233</td>\n",
       "      <td>132.811956</td>\n",
       "      <td>12351.511908</td>\n",
       "    </tr>\n",
       "    <tr>\n",
       "      <th>2011-06-19 00:00:00</th>\n",
       "      <td>28.70</td>\n",
       "      <td>65</td>\n",
       "      <td>0.0000</td>\n",
       "      <td>1</td>\n",
       "      <td>1</td>\n",
       "      <td>0</td>\n",
       "      <td>0</td>\n",
       "      <td>0</td>\n",
       "      <td>0</td>\n",
       "      <td>0</td>\n",
       "      <td>...</td>\n",
       "      <td>0</td>\n",
       "      <td>0</td>\n",
       "      <td>0</td>\n",
       "      <td>1</td>\n",
       "      <td>0</td>\n",
       "      <td>0</td>\n",
       "      <td>1865.50</td>\n",
       "      <td>0.0000</td>\n",
       "      <td>0.000000</td>\n",
       "      <td>0.000000</td>\n",
       "    </tr>\n",
       "    <tr>\n",
       "      <th>2012-05-10 19:00:00</th>\n",
       "      <td>22.14</td>\n",
       "      <td>37</td>\n",
       "      <td>23.9994</td>\n",
       "      <td>0</td>\n",
       "      <td>0</td>\n",
       "      <td>0</td>\n",
       "      <td>0</td>\n",
       "      <td>0</td>\n",
       "      <td>0</td>\n",
       "      <td>0</td>\n",
       "      <td>...</td>\n",
       "      <td>0</td>\n",
       "      <td>0</td>\n",
       "      <td>0</td>\n",
       "      <td>1</td>\n",
       "      <td>0</td>\n",
       "      <td>0</td>\n",
       "      <td>819.18</td>\n",
       "      <td>887.9778</td>\n",
       "      <td>531.346716</td>\n",
       "      <td>19659.828492</td>\n",
       "    </tr>\n",
       "    <tr>\n",
       "      <th>2011-12-06 08:00:00</th>\n",
       "      <td>18.86</td>\n",
       "      <td>94</td>\n",
       "      <td>12.9980</td>\n",
       "      <td>0</td>\n",
       "      <td>0</td>\n",
       "      <td>0</td>\n",
       "      <td>0</td>\n",
       "      <td>0</td>\n",
       "      <td>0</td>\n",
       "      <td>0</td>\n",
       "      <td>...</td>\n",
       "      <td>0</td>\n",
       "      <td>0</td>\n",
       "      <td>1</td>\n",
       "      <td>0</td>\n",
       "      <td>1</td>\n",
       "      <td>0</td>\n",
       "      <td>1772.84</td>\n",
       "      <td>1221.8120</td>\n",
       "      <td>245.142280</td>\n",
       "      <td>23043.374320</td>\n",
       "    </tr>\n",
       "    <tr>\n",
       "      <th>2011-04-17 08:00:00</th>\n",
       "      <td>15.58</td>\n",
       "      <td>46</td>\n",
       "      <td>26.0027</td>\n",
       "      <td>1</td>\n",
       "      <td>0</td>\n",
       "      <td>0</td>\n",
       "      <td>0</td>\n",
       "      <td>0</td>\n",
       "      <td>0</td>\n",
       "      <td>0</td>\n",
       "      <td>...</td>\n",
       "      <td>0</td>\n",
       "      <td>0</td>\n",
       "      <td>0</td>\n",
       "      <td>1</td>\n",
       "      <td>0</td>\n",
       "      <td>0</td>\n",
       "      <td>716.68</td>\n",
       "      <td>1196.1242</td>\n",
       "      <td>405.122066</td>\n",
       "      <td>18635.615036</td>\n",
       "    </tr>\n",
       "    <tr>\n",
       "      <th>...</th>\n",
       "      <td>...</td>\n",
       "      <td>...</td>\n",
       "      <td>...</td>\n",
       "      <td>...</td>\n",
       "      <td>...</td>\n",
       "      <td>...</td>\n",
       "      <td>...</td>\n",
       "      <td>...</td>\n",
       "      <td>...</td>\n",
       "      <td>...</td>\n",
       "      <td>...</td>\n",
       "      <td>...</td>\n",
       "      <td>...</td>\n",
       "      <td>...</td>\n",
       "      <td>...</td>\n",
       "      <td>...</td>\n",
       "      <td>...</td>\n",
       "      <td>...</td>\n",
       "      <td>...</td>\n",
       "      <td>...</td>\n",
       "      <td>...</td>\n",
       "    </tr>\n",
       "    <tr>\n",
       "      <th>2011-11-15 13:00:00</th>\n",
       "      <td>22.14</td>\n",
       "      <td>60</td>\n",
       "      <td>15.0013</td>\n",
       "      <td>0</td>\n",
       "      <td>0</td>\n",
       "      <td>0</td>\n",
       "      <td>0</td>\n",
       "      <td>0</td>\n",
       "      <td>0</td>\n",
       "      <td>0</td>\n",
       "      <td>...</td>\n",
       "      <td>0</td>\n",
       "      <td>1</td>\n",
       "      <td>0</td>\n",
       "      <td>0</td>\n",
       "      <td>0</td>\n",
       "      <td>1</td>\n",
       "      <td>1328.40</td>\n",
       "      <td>900.0780</td>\n",
       "      <td>332.128782</td>\n",
       "      <td>19927.726920</td>\n",
       "    </tr>\n",
       "    <tr>\n",
       "      <th>2011-08-05 22:00:00</th>\n",
       "      <td>28.70</td>\n",
       "      <td>65</td>\n",
       "      <td>15.0013</td>\n",
       "      <td>0</td>\n",
       "      <td>0</td>\n",
       "      <td>0</td>\n",
       "      <td>0</td>\n",
       "      <td>0</td>\n",
       "      <td>0</td>\n",
       "      <td>0</td>\n",
       "      <td>...</td>\n",
       "      <td>0</td>\n",
       "      <td>0</td>\n",
       "      <td>0</td>\n",
       "      <td>1</td>\n",
       "      <td>0</td>\n",
       "      <td>0</td>\n",
       "      <td>1865.50</td>\n",
       "      <td>975.0845</td>\n",
       "      <td>430.537310</td>\n",
       "      <td>27984.925150</td>\n",
       "    </tr>\n",
       "    <tr>\n",
       "      <th>2012-10-14 14:00:00</th>\n",
       "      <td>27.06</td>\n",
       "      <td>39</td>\n",
       "      <td>27.9993</td>\n",
       "      <td>1</td>\n",
       "      <td>0</td>\n",
       "      <td>0</td>\n",
       "      <td>0</td>\n",
       "      <td>0</td>\n",
       "      <td>0</td>\n",
       "      <td>0</td>\n",
       "      <td>...</td>\n",
       "      <td>1</td>\n",
       "      <td>0</td>\n",
       "      <td>0</td>\n",
       "      <td>1</td>\n",
       "      <td>0</td>\n",
       "      <td>0</td>\n",
       "      <td>1055.34</td>\n",
       "      <td>1091.9727</td>\n",
       "      <td>757.661058</td>\n",
       "      <td>29548.781262</td>\n",
       "    </tr>\n",
       "    <tr>\n",
       "      <th>2012-12-16 09:00:00</th>\n",
       "      <td>14.76</td>\n",
       "      <td>87</td>\n",
       "      <td>8.9981</td>\n",
       "      <td>1</td>\n",
       "      <td>0</td>\n",
       "      <td>0</td>\n",
       "      <td>0</td>\n",
       "      <td>0</td>\n",
       "      <td>0</td>\n",
       "      <td>0</td>\n",
       "      <td>...</td>\n",
       "      <td>0</td>\n",
       "      <td>0</td>\n",
       "      <td>1</td>\n",
       "      <td>0</td>\n",
       "      <td>1</td>\n",
       "      <td>0</td>\n",
       "      <td>1284.12</td>\n",
       "      <td>782.8347</td>\n",
       "      <td>132.811956</td>\n",
       "      <td>11554.640172</td>\n",
       "    </tr>\n",
       "    <tr>\n",
       "      <th>2011-07-02 18:00:00</th>\n",
       "      <td>33.62</td>\n",
       "      <td>30</td>\n",
       "      <td>19.0012</td>\n",
       "      <td>1</td>\n",
       "      <td>0</td>\n",
       "      <td>0</td>\n",
       "      <td>0</td>\n",
       "      <td>0</td>\n",
       "      <td>0</td>\n",
       "      <td>0</td>\n",
       "      <td>...</td>\n",
       "      <td>0</td>\n",
       "      <td>0</td>\n",
       "      <td>0</td>\n",
       "      <td>1</td>\n",
       "      <td>0</td>\n",
       "      <td>0</td>\n",
       "      <td>1008.60</td>\n",
       "      <td>570.0360</td>\n",
       "      <td>638.820344</td>\n",
       "      <td>19164.610320</td>\n",
       "    </tr>\n",
       "  </tbody>\n",
       "</table>\n",
       "<p>8164 rows × 47 columns</p>\n",
       "</div>"
      ],
      "text/plain": [
       "                      temp  humidity  windspeed  workingday_0  hour_0  hour_1  \\\n",
       "datetime                                                                        \n",
       "2012-12-09 17:00:00  14.76        93     8.9981             1       0       0   \n",
       "2011-06-19 00:00:00  28.70        65     0.0000             1       1       0   \n",
       "2012-05-10 19:00:00  22.14        37    23.9994             0       0       0   \n",
       "2011-12-06 08:00:00  18.86        94    12.9980             0       0       0   \n",
       "2011-04-17 08:00:00  15.58        46    26.0027             1       0       0   \n",
       "...                    ...       ...        ...           ...     ...     ...   \n",
       "2011-11-15 13:00:00  22.14        60    15.0013             0       0       0   \n",
       "2011-08-05 22:00:00  28.70        65    15.0013             0       0       0   \n",
       "2012-10-14 14:00:00  27.06        39    27.9993             1       0       0   \n",
       "2012-12-16 09:00:00  14.76        87     8.9981             1       0       0   \n",
       "2011-07-02 18:00:00  33.62        30    19.0012             1       0       0   \n",
       "\n",
       "                     hour_2  hour_3  hour_4  hour_5  ...  month_10  month_11  \\\n",
       "datetime                                             ...                       \n",
       "2012-12-09 17:00:00       0       0       0       0  ...         0         0   \n",
       "2011-06-19 00:00:00       0       0       0       0  ...         0         0   \n",
       "2012-05-10 19:00:00       0       0       0       0  ...         0         0   \n",
       "2011-12-06 08:00:00       0       0       0       0  ...         0         0   \n",
       "2011-04-17 08:00:00       0       0       0       0  ...         0         0   \n",
       "...                     ...     ...     ...     ...  ...       ...       ...   \n",
       "2011-11-15 13:00:00       0       0       0       0  ...         0         1   \n",
       "2011-08-05 22:00:00       0       0       0       0  ...         0         0   \n",
       "2012-10-14 14:00:00       0       0       0       0  ...         1         0   \n",
       "2012-12-16 09:00:00       0       0       0       0  ...         0         0   \n",
       "2011-07-02 18:00:00       0       0       0       0  ...         0         0   \n",
       "\n",
       "                     month_12  weather_1  weather_2  weather_3    x0 x1  \\\n",
       "datetime                                                                  \n",
       "2012-12-09 17:00:00         1          0          0          1  1372.68   \n",
       "2011-06-19 00:00:00         0          1          0          0  1865.50   \n",
       "2012-05-10 19:00:00         0          1          0          0   819.18   \n",
       "2011-12-06 08:00:00         1          0          1          0  1772.84   \n",
       "2011-04-17 08:00:00         0          1          0          0   716.68   \n",
       "...                       ...        ...        ...        ...      ...   \n",
       "2011-11-15 13:00:00         0          0          0          1  1328.40   \n",
       "2011-08-05 22:00:00         0          1          0          0  1865.50   \n",
       "2012-10-14 14:00:00         0          1          0          0  1055.34   \n",
       "2012-12-16 09:00:00         1          0          1          0  1284.12   \n",
       "2011-07-02 18:00:00         0          1          0          0  1008.60   \n",
       "\n",
       "                         x0 x2       x1 x2      x0 x1 x2  \n",
       "datetime                                                  \n",
       "2012-12-09 17:00:00   836.8233  132.811956  12351.511908  \n",
       "2011-06-19 00:00:00     0.0000    0.000000      0.000000  \n",
       "2012-05-10 19:00:00   887.9778  531.346716  19659.828492  \n",
       "2011-12-06 08:00:00  1221.8120  245.142280  23043.374320  \n",
       "2011-04-17 08:00:00  1196.1242  405.122066  18635.615036  \n",
       "...                        ...         ...           ...  \n",
       "2011-11-15 13:00:00   900.0780  332.128782  19927.726920  \n",
       "2011-08-05 22:00:00   975.0845  430.537310  27984.925150  \n",
       "2012-10-14 14:00:00  1091.9727  757.661058  29548.781262  \n",
       "2012-12-16 09:00:00   782.8347  132.811956  11554.640172  \n",
       "2011-07-02 18:00:00   570.0360  638.820344  19164.610320  \n",
       "\n",
       "[8164 rows x 47 columns]"
      ]
     },
     "execution_count": 20,
     "metadata": {},
     "output_type": "execute_result"
    }
   ],
   "source": [
    "X_train_feps"
   ]
  },
  {
   "cell_type": "code",
   "execution_count": 21,
   "metadata": {},
   "outputs": [
    {
     "data": {
      "text/plain": [
       "Index(['temp', 'humidity', 'windspeed', 'workingday_0', 'hour_0', 'hour_1',\n",
       "       'hour_2', 'hour_3', 'hour_4', 'hour_5', 'hour_6', 'hour_7', 'hour_8',\n",
       "       'hour_9', 'hour_10', 'hour_11', 'hour_12', 'hour_13', 'hour_14',\n",
       "       'hour_15', 'hour_16', 'hour_17', 'hour_18', 'hour_19', 'hour_20',\n",
       "       'hour_21', 'hour_22', 'hour_23', 'month_1', 'month_2', 'month_3',\n",
       "       'month_4', 'month_5', 'month_6', 'month_7', 'month_8', 'month_9',\n",
       "       'month_10', 'month_11', 'month_12', 'weather_1', 'weather_2',\n",
       "       'weather_3', 'x0 x1', 'x0 x2', 'x1 x2', 'x0 x1 x2'],\n",
       "      dtype='object')"
      ]
     },
     "execution_count": 21,
     "metadata": {},
     "output_type": "execute_result"
    }
   ],
   "source": [
    "X_train_feps.columns"
   ]
  },
  {
   "cell_type": "code",
   "execution_count": 22,
   "metadata": {},
   "outputs": [],
   "source": [
    "X_test_feps=select(X_test_fep)"
   ]
  },
  {
   "cell_type": "markdown",
   "metadata": {},
   "source": [
    "### Linear Regression Fitting and Validation"
   ]
  },
  {
   "cell_type": "code",
   "execution_count": 23,
   "metadata": {},
   "outputs": [
    {
     "data": {
      "text/plain": [
       "LinearRegression(normalize=True)"
      ]
     },
     "execution_count": 23,
     "metadata": {},
     "output_type": "execute_result"
    }
   ],
   "source": [
    "m = LinearRegression(normalize=True)\n",
    "m.fit(X_train_feps, y_train)"
   ]
  },
  {
   "cell_type": "code",
   "execution_count": 24,
   "metadata": {},
   "outputs": [
    {
     "data": {
      "text/plain": [
       "0.6475817613000995"
      ]
     },
     "execution_count": 24,
     "metadata": {},
     "output_type": "execute_result"
    }
   ],
   "source": [
    "m.score(X_train_feps, y_train)  # R-squared"
   ]
  },
  {
   "cell_type": "code",
   "execution_count": 25,
   "metadata": {},
   "outputs": [
    {
     "data": {
      "text/plain": [
       "array([350.84375, 120.375  , 369.0625 , ..., 330.5625 , 212.625  ,\n",
       "       542.75   ])"
      ]
     },
     "execution_count": 25,
     "metadata": {},
     "output_type": "execute_result"
    }
   ],
   "source": [
    "ypred_lr= m.predict(X_train_feps)\n",
    "ypred_lr"
   ]
  },
  {
   "cell_type": "code",
   "execution_count": 26,
   "metadata": {},
   "outputs": [
    {
     "data": {
      "text/plain": [
       "77.27366333904949"
      ]
     },
     "execution_count": 26,
     "metadata": {},
     "output_type": "execute_result"
    }
   ],
   "source": [
    "metrics.mean_absolute_error(ypred_lr, y_train)   #mae"
   ]
  },
  {
   "cell_type": "code",
   "execution_count": 27,
   "metadata": {},
   "outputs": [
    {
     "data": {
      "text/plain": [
       "11568.5636335015"
      ]
     },
     "execution_count": 27,
     "metadata": {},
     "output_type": "execute_result"
    }
   ],
   "source": [
    "from sklearn.metrics import mean_squared_error\n",
    "mean_squared_error(ypred_lr, y_train)    #mse"
   ]
  },
  {
   "cell_type": "code",
   "execution_count": 28,
   "metadata": {},
   "outputs": [
    {
     "data": {
      "text/plain": [
       "107.55725746550765"
      ]
     },
     "execution_count": 28,
     "metadata": {},
     "output_type": "execute_result"
    }
   ],
   "source": [
    "np.sqrt(mean_squared_error(ypred_lr, y_train))      #rmse"
   ]
  },
  {
   "cell_type": "code",
   "execution_count": 29,
   "metadata": {},
   "outputs": [
    {
     "data": {
      "text/plain": [
       "1.0170584436770074"
      ]
     },
     "execution_count": 29,
     "metadata": {},
     "output_type": "execute_result"
    }
   ],
   "source": [
    "from sklearn.metrics import mean_squared_log_error\n",
    "pred_train = m.predict(X_train_feps)\n",
    "pred_train_pos = pred_train.flatten()\n",
    "pred_train_pos[pred_train_pos < 0] = 0\n",
    "np.sqrt(mean_squared_log_error(pred_train_pos, y_train)) "
   ]
  },
  {
   "cell_type": "markdown",
   "metadata": {},
   "source": [
    "### Test"
   ]
  },
  {
   "cell_type": "code",
   "execution_count": 30,
   "metadata": {},
   "outputs": [
    {
     "data": {
      "text/plain": [
       "Index(['temp', 'humidity', 'windspeed', 'workingday_0', 'hour_0', 'hour_1',\n",
       "       'hour_2', 'hour_3', 'hour_4', 'hour_5', 'hour_6', 'hour_7', 'hour_8',\n",
       "       'hour_9', 'hour_10', 'hour_11', 'hour_12', 'hour_13', 'hour_14',\n",
       "       'hour_15', 'hour_16', 'hour_17', 'hour_18', 'hour_19', 'hour_20',\n",
       "       'hour_21', 'hour_22', 'hour_23', 'month_1', 'month_2', 'month_3',\n",
       "       'month_4', 'month_5', 'month_6', 'month_7', 'month_8', 'month_9',\n",
       "       'month_10', 'month_11', 'month_12', 'weather_1', 'weather_2',\n",
       "       'weather_3', 'x0 x1', 'x0 x2', 'x1 x2', 'x0 x1 x2'],\n",
       "      dtype='object')"
      ]
     },
     "execution_count": 30,
     "metadata": {},
     "output_type": "execute_result"
    }
   ],
   "source": [
    "X_test_feps.columns"
   ]
  },
  {
   "cell_type": "code",
   "execution_count": 31,
   "metadata": {},
   "outputs": [
    {
     "data": {
      "text/plain": [
       "0.6271925413407531"
      ]
     },
     "execution_count": 31,
     "metadata": {},
     "output_type": "execute_result"
    }
   ],
   "source": [
    "m.score(X_test_feps, y_test)"
   ]
  },
  {
   "cell_type": "markdown",
   "metadata": {},
   "source": [
    "### Regularization"
   ]
  },
  {
   "cell_type": "code",
   "execution_count": 32,
   "metadata": {},
   "outputs": [],
   "source": [
    "m_ridge = Ridge(alpha=5.0) \n",
    "m_lasso = Lasso(alpha=5.0)\n",
    "\n",
    "m.fit(X_train_feps, y_train)       \n",
    "m_ridge.fit(X_train_feps, y_train)  \n",
    "m_lasso.fit(X_train_feps, y_train)  \n",
    "\n",
    "ypred = m.predict(X_train_feps)\n",
    "ypred_ridge = m_ridge.predict(X_train_feps)\n",
    "ypred_lasso = m_lasso.predict(X_train_feps)"
   ]
  },
  {
   "cell_type": "code",
   "execution_count": 33,
   "metadata": {},
   "outputs": [
    {
     "data": {
      "text/plain": [
       "0.6474117633741582"
      ]
     },
     "execution_count": 33,
     "metadata": {},
     "output_type": "execute_result"
    }
   ],
   "source": [
    "m_ridge.score(X_train_feps, y_train)"
   ]
  },
  {
   "cell_type": "code",
   "execution_count": 34,
   "metadata": {
    "scrolled": true
   },
   "outputs": [
    {
     "data": {
      "text/plain": [
       "0.3888959651316144"
      ]
     },
     "execution_count": 34,
     "metadata": {},
     "output_type": "execute_result"
    }
   ],
   "source": [
    "m_lasso.score(X_train_feps, y_train)"
   ]
  },
  {
   "cell_type": "markdown",
   "metadata": {},
   "source": [
    "### Random Forest"
   ]
  },
  {
   "cell_type": "code",
   "execution_count": 35,
   "metadata": {},
   "outputs": [],
   "source": [
    "from sklearn.ensemble import RandomForestRegressor\n",
    "rf = RandomForestRegressor(max_depth=50,random_state=0)"
   ]
  },
  {
   "cell_type": "code",
   "execution_count": 36,
   "metadata": {},
   "outputs": [
    {
     "data": {
      "text/plain": [
       "RandomForestRegressor(max_depth=50, random_state=0)"
      ]
     },
     "execution_count": 36,
     "metadata": {},
     "output_type": "execute_result"
    }
   ],
   "source": [
    "rf.fit(X_train_feps, y_train)"
   ]
  },
  {
   "cell_type": "code",
   "execution_count": 37,
   "metadata": {},
   "outputs": [
    {
     "data": {
      "text/plain": [
       "0.9751500499836847"
      ]
     },
     "execution_count": 37,
     "metadata": {},
     "output_type": "execute_result"
    }
   ],
   "source": [
    "rf.score(X_train_feps, y_train)"
   ]
  },
  {
   "cell_type": "code",
   "execution_count": 38,
   "metadata": {},
   "outputs": [],
   "source": [
    "ypred_rf= rf.predict(X_train_feps)"
   ]
  },
  {
   "cell_type": "code",
   "execution_count": 39,
   "metadata": {},
   "outputs": [
    {
     "data": {
      "text/plain": [
       "28.560992255901528"
      ]
     },
     "execution_count": 39,
     "metadata": {},
     "output_type": "execute_result"
    }
   ],
   "source": [
    "np.sqrt(mean_squared_error(ypred_rf, y_train))    "
   ]
  },
  {
   "cell_type": "markdown",
   "metadata": {},
   "source": [
    "#### RF Feature Permutation Importance"
   ]
  },
  {
   "cell_type": "code",
   "execution_count": 40,
   "metadata": {},
   "outputs": [
    {
     "data": {
      "text/html": [
       "<div>\n",
       "<style scoped>\n",
       "    .dataframe tbody tr th:only-of-type {\n",
       "        vertical-align: middle;\n",
       "    }\n",
       "\n",
       "    .dataframe tbody tr th {\n",
       "        vertical-align: top;\n",
       "    }\n",
       "\n",
       "    .dataframe thead th {\n",
       "        text-align: right;\n",
       "    }\n",
       "</style>\n",
       "<table border=\"1\" class=\"dataframe\">\n",
       "  <thead>\n",
       "    <tr style=\"text-align: right;\">\n",
       "      <th></th>\n",
       "      <th>importance</th>\n",
       "      <th>feature</th>\n",
       "    </tr>\n",
       "  </thead>\n",
       "  <tbody>\n",
       "    <tr>\n",
       "      <th>0</th>\n",
       "      <td>0.440072</td>\n",
       "      <td>temp</td>\n",
       "    </tr>\n",
       "    <tr>\n",
       "      <th>3</th>\n",
       "      <td>0.298576</td>\n",
       "      <td>workingday_0</td>\n",
       "    </tr>\n",
       "    <tr>\n",
       "      <th>21</th>\n",
       "      <td>0.228662</td>\n",
       "      <td>hour_17</td>\n",
       "    </tr>\n",
       "    <tr>\n",
       "      <th>12</th>\n",
       "      <td>0.221240</td>\n",
       "      <td>hour_8</td>\n",
       "    </tr>\n",
       "    <tr>\n",
       "      <th>1</th>\n",
       "      <td>0.214878</td>\n",
       "      <td>humidity</td>\n",
       "    </tr>\n",
       "    <tr>\n",
       "      <th>22</th>\n",
       "      <td>0.196867</td>\n",
       "      <td>hour_18</td>\n",
       "    </tr>\n",
       "    <tr>\n",
       "      <th>23</th>\n",
       "      <td>0.061042</td>\n",
       "      <td>hour_19</td>\n",
       "    </tr>\n",
       "    <tr>\n",
       "      <th>11</th>\n",
       "      <td>0.051377</td>\n",
       "      <td>hour_7</td>\n",
       "    </tr>\n",
       "    <tr>\n",
       "      <th>43</th>\n",
       "      <td>0.040827</td>\n",
       "      <td>x0 x1</td>\n",
       "    </tr>\n",
       "    <tr>\n",
       "      <th>8</th>\n",
       "      <td>0.037589</td>\n",
       "      <td>hour_4</td>\n",
       "    </tr>\n",
       "    <tr>\n",
       "      <th>7</th>\n",
       "      <td>0.037273</td>\n",
       "      <td>hour_3</td>\n",
       "    </tr>\n",
       "    <tr>\n",
       "      <th>6</th>\n",
       "      <td>0.034176</td>\n",
       "      <td>hour_2</td>\n",
       "    </tr>\n",
       "    <tr>\n",
       "      <th>5</th>\n",
       "      <td>0.034014</td>\n",
       "      <td>hour_1</td>\n",
       "    </tr>\n",
       "    <tr>\n",
       "      <th>9</th>\n",
       "      <td>0.028053</td>\n",
       "      <td>hour_5</td>\n",
       "    </tr>\n",
       "    <tr>\n",
       "      <th>4</th>\n",
       "      <td>0.024692</td>\n",
       "      <td>hour_0</td>\n",
       "    </tr>\n",
       "    <tr>\n",
       "      <th>44</th>\n",
       "      <td>0.023243</td>\n",
       "      <td>x0 x2</td>\n",
       "    </tr>\n",
       "    <tr>\n",
       "      <th>20</th>\n",
       "      <td>0.022806</td>\n",
       "      <td>hour_16</td>\n",
       "    </tr>\n",
       "    <tr>\n",
       "      <th>13</th>\n",
       "      <td>0.020797</td>\n",
       "      <td>hour_9</td>\n",
       "    </tr>\n",
       "    <tr>\n",
       "      <th>45</th>\n",
       "      <td>0.020329</td>\n",
       "      <td>x1 x2</td>\n",
       "    </tr>\n",
       "    <tr>\n",
       "      <th>46</th>\n",
       "      <td>0.018009</td>\n",
       "      <td>x0 x1 x2</td>\n",
       "    </tr>\n",
       "    <tr>\n",
       "      <th>24</th>\n",
       "      <td>0.015728</td>\n",
       "      <td>hour_20</td>\n",
       "    </tr>\n",
       "    <tr>\n",
       "      <th>27</th>\n",
       "      <td>0.014572</td>\n",
       "      <td>hour_23</td>\n",
       "    </tr>\n",
       "    <tr>\n",
       "      <th>38</th>\n",
       "      <td>0.013206</td>\n",
       "      <td>month_11</td>\n",
       "    </tr>\n",
       "    <tr>\n",
       "      <th>39</th>\n",
       "      <td>0.012522</td>\n",
       "      <td>month_12</td>\n",
       "    </tr>\n",
       "    <tr>\n",
       "      <th>10</th>\n",
       "      <td>0.012387</td>\n",
       "      <td>hour_6</td>\n",
       "    </tr>\n",
       "    <tr>\n",
       "      <th>42</th>\n",
       "      <td>0.011920</td>\n",
       "      <td>weather_3</td>\n",
       "    </tr>\n",
       "    <tr>\n",
       "      <th>37</th>\n",
       "      <td>0.011913</td>\n",
       "      <td>month_10</td>\n",
       "    </tr>\n",
       "    <tr>\n",
       "      <th>2</th>\n",
       "      <td>0.008773</td>\n",
       "      <td>windspeed</td>\n",
       "    </tr>\n",
       "    <tr>\n",
       "      <th>16</th>\n",
       "      <td>0.008085</td>\n",
       "      <td>hour_12</td>\n",
       "    </tr>\n",
       "    <tr>\n",
       "      <th>29</th>\n",
       "      <td>0.007236</td>\n",
       "      <td>month_2</td>\n",
       "    </tr>\n",
       "    <tr>\n",
       "      <th>30</th>\n",
       "      <td>0.006853</td>\n",
       "      <td>month_3</td>\n",
       "    </tr>\n",
       "    <tr>\n",
       "      <th>14</th>\n",
       "      <td>0.006660</td>\n",
       "      <td>hour_10</td>\n",
       "    </tr>\n",
       "    <tr>\n",
       "      <th>26</th>\n",
       "      <td>0.006488</td>\n",
       "      <td>hour_22</td>\n",
       "    </tr>\n",
       "    <tr>\n",
       "      <th>15</th>\n",
       "      <td>0.005531</td>\n",
       "      <td>hour_11</td>\n",
       "    </tr>\n",
       "    <tr>\n",
       "      <th>17</th>\n",
       "      <td>0.005151</td>\n",
       "      <td>hour_13</td>\n",
       "    </tr>\n",
       "    <tr>\n",
       "      <th>25</th>\n",
       "      <td>0.004739</td>\n",
       "      <td>hour_21</td>\n",
       "    </tr>\n",
       "    <tr>\n",
       "      <th>36</th>\n",
       "      <td>0.004720</td>\n",
       "      <td>month_9</td>\n",
       "    </tr>\n",
       "    <tr>\n",
       "      <th>31</th>\n",
       "      <td>0.004597</td>\n",
       "      <td>month_4</td>\n",
       "    </tr>\n",
       "    <tr>\n",
       "      <th>40</th>\n",
       "      <td>0.004487</td>\n",
       "      <td>weather_1</td>\n",
       "    </tr>\n",
       "    <tr>\n",
       "      <th>34</th>\n",
       "      <td>0.003418</td>\n",
       "      <td>month_7</td>\n",
       "    </tr>\n",
       "    <tr>\n",
       "      <th>18</th>\n",
       "      <td>0.003244</td>\n",
       "      <td>hour_14</td>\n",
       "    </tr>\n",
       "    <tr>\n",
       "      <th>19</th>\n",
       "      <td>0.003134</td>\n",
       "      <td>hour_15</td>\n",
       "    </tr>\n",
       "    <tr>\n",
       "      <th>41</th>\n",
       "      <td>0.002994</td>\n",
       "      <td>weather_2</td>\n",
       "    </tr>\n",
       "    <tr>\n",
       "      <th>32</th>\n",
       "      <td>0.002363</td>\n",
       "      <td>month_5</td>\n",
       "    </tr>\n",
       "    <tr>\n",
       "      <th>33</th>\n",
       "      <td>0.002228</td>\n",
       "      <td>month_6</td>\n",
       "    </tr>\n",
       "    <tr>\n",
       "      <th>35</th>\n",
       "      <td>0.001755</td>\n",
       "      <td>month_8</td>\n",
       "    </tr>\n",
       "    <tr>\n",
       "      <th>28</th>\n",
       "      <td>0.001155</td>\n",
       "      <td>month_1</td>\n",
       "    </tr>\n",
       "  </tbody>\n",
       "</table>\n",
       "</div>"
      ],
      "text/plain": [
       "    importance       feature\n",
       "0     0.440072          temp\n",
       "3     0.298576  workingday_0\n",
       "21    0.228662       hour_17\n",
       "12    0.221240        hour_8\n",
       "1     0.214878      humidity\n",
       "22    0.196867       hour_18\n",
       "23    0.061042       hour_19\n",
       "11    0.051377        hour_7\n",
       "43    0.040827         x0 x1\n",
       "8     0.037589        hour_4\n",
       "7     0.037273        hour_3\n",
       "6     0.034176        hour_2\n",
       "5     0.034014        hour_1\n",
       "9     0.028053        hour_5\n",
       "4     0.024692        hour_0\n",
       "44    0.023243         x0 x2\n",
       "20    0.022806       hour_16\n",
       "13    0.020797        hour_9\n",
       "45    0.020329         x1 x2\n",
       "46    0.018009      x0 x1 x2\n",
       "24    0.015728       hour_20\n",
       "27    0.014572       hour_23\n",
       "38    0.013206      month_11\n",
       "39    0.012522      month_12\n",
       "10    0.012387        hour_6\n",
       "42    0.011920     weather_3\n",
       "37    0.011913      month_10\n",
       "2     0.008773     windspeed\n",
       "16    0.008085       hour_12\n",
       "29    0.007236       month_2\n",
       "30    0.006853       month_3\n",
       "14    0.006660       hour_10\n",
       "26    0.006488       hour_22\n",
       "15    0.005531       hour_11\n",
       "17    0.005151       hour_13\n",
       "25    0.004739       hour_21\n",
       "36    0.004720       month_9\n",
       "31    0.004597       month_4\n",
       "40    0.004487     weather_1\n",
       "34    0.003418       month_7\n",
       "18    0.003244       hour_14\n",
       "19    0.003134       hour_15\n",
       "41    0.002994     weather_2\n",
       "32    0.002363       month_5\n",
       "33    0.002228       month_6\n",
       "35    0.001755       month_8\n",
       "28    0.001155       month_1"
      ]
     },
     "execution_count": 40,
     "metadata": {},
     "output_type": "execute_result"
    }
   ],
   "source": [
    "from sklearn.inspection import permutation_importance\n",
    "\n",
    "pi = permutation_importance(rf, X_train_feps, y_train)\n",
    "pi = pd.DataFrame({'importance': pi['importances_mean'], 'feature': X_train_feps.columns})\n",
    "pi.sort_values('importance', ascending=False)"
   ]
  },
  {
   "cell_type": "markdown",
   "metadata": {},
   "source": [
    "#### Recursive Feature Elimination"
   ]
  },
  {
   "cell_type": "code",
   "execution_count": 41,
   "metadata": {},
   "outputs": [
    {
     "data": {
      "text/plain": [
       "RFE(estimator=RandomForestRegressor(max_depth=50, random_state=0),\n",
       "    n_features_to_select=3)"
      ]
     },
     "execution_count": 41,
     "metadata": {},
     "output_type": "execute_result"
    }
   ],
   "source": [
    "from sklearn.feature_selection import RFE\n",
    "rfe = RFE(rf, n_features_to_select=3)\n",
    "rfe.fit(X_train_feps, y_train)"
   ]
  },
  {
   "cell_type": "code",
   "execution_count": 42,
   "metadata": {},
   "outputs": [],
   "source": [
    "rfe_df = pd.DataFrame({'support': rfe.support_, 'ranking': rfe.ranking_, 'feature': X_train_feps.columns})"
   ]
  },
  {
   "cell_type": "code",
   "execution_count": 43,
   "metadata": {},
   "outputs": [
    {
     "data": {
      "text/html": [
       "<div>\n",
       "<style scoped>\n",
       "    .dataframe tbody tr th:only-of-type {\n",
       "        vertical-align: middle;\n",
       "    }\n",
       "\n",
       "    .dataframe tbody tr th {\n",
       "        vertical-align: top;\n",
       "    }\n",
       "\n",
       "    .dataframe thead th {\n",
       "        text-align: right;\n",
       "    }\n",
       "</style>\n",
       "<table border=\"1\" class=\"dataframe\">\n",
       "  <thead>\n",
       "    <tr style=\"text-align: right;\">\n",
       "      <th></th>\n",
       "      <th>support</th>\n",
       "      <th>ranking</th>\n",
       "      <th>feature</th>\n",
       "    </tr>\n",
       "  </thead>\n",
       "  <tbody>\n",
       "    <tr>\n",
       "      <th>0</th>\n",
       "      <td>True</td>\n",
       "      <td>1</td>\n",
       "      <td>temp</td>\n",
       "    </tr>\n",
       "    <tr>\n",
       "      <th>46</th>\n",
       "      <td>True</td>\n",
       "      <td>1</td>\n",
       "      <td>x0 x1 x2</td>\n",
       "    </tr>\n",
       "    <tr>\n",
       "      <th>1</th>\n",
       "      <td>True</td>\n",
       "      <td>1</td>\n",
       "      <td>humidity</td>\n",
       "    </tr>\n",
       "    <tr>\n",
       "      <th>45</th>\n",
       "      <td>False</td>\n",
       "      <td>2</td>\n",
       "      <td>x1 x2</td>\n",
       "    </tr>\n",
       "    <tr>\n",
       "      <th>43</th>\n",
       "      <td>False</td>\n",
       "      <td>3</td>\n",
       "      <td>x0 x1</td>\n",
       "    </tr>\n",
       "    <tr>\n",
       "      <th>21</th>\n",
       "      <td>False</td>\n",
       "      <td>4</td>\n",
       "      <td>hour_17</td>\n",
       "    </tr>\n",
       "    <tr>\n",
       "      <th>22</th>\n",
       "      <td>False</td>\n",
       "      <td>5</td>\n",
       "      <td>hour_18</td>\n",
       "    </tr>\n",
       "    <tr>\n",
       "      <th>3</th>\n",
       "      <td>False</td>\n",
       "      <td>6</td>\n",
       "      <td>workingday_0</td>\n",
       "    </tr>\n",
       "    <tr>\n",
       "      <th>12</th>\n",
       "      <td>False</td>\n",
       "      <td>7</td>\n",
       "      <td>hour_8</td>\n",
       "    </tr>\n",
       "    <tr>\n",
       "      <th>44</th>\n",
       "      <td>False</td>\n",
       "      <td>8</td>\n",
       "      <td>x0 x2</td>\n",
       "    </tr>\n",
       "    <tr>\n",
       "      <th>23</th>\n",
       "      <td>False</td>\n",
       "      <td>9</td>\n",
       "      <td>hour_19</td>\n",
       "    </tr>\n",
       "    <tr>\n",
       "      <th>8</th>\n",
       "      <td>False</td>\n",
       "      <td>10</td>\n",
       "      <td>hour_4</td>\n",
       "    </tr>\n",
       "    <tr>\n",
       "      <th>7</th>\n",
       "      <td>False</td>\n",
       "      <td>11</td>\n",
       "      <td>hour_3</td>\n",
       "    </tr>\n",
       "    <tr>\n",
       "      <th>5</th>\n",
       "      <td>False</td>\n",
       "      <td>12</td>\n",
       "      <td>hour_1</td>\n",
       "    </tr>\n",
       "    <tr>\n",
       "      <th>6</th>\n",
       "      <td>False</td>\n",
       "      <td>13</td>\n",
       "      <td>hour_2</td>\n",
       "    </tr>\n",
       "    <tr>\n",
       "      <th>11</th>\n",
       "      <td>False</td>\n",
       "      <td>14</td>\n",
       "      <td>hour_7</td>\n",
       "    </tr>\n",
       "    <tr>\n",
       "      <th>4</th>\n",
       "      <td>False</td>\n",
       "      <td>15</td>\n",
       "      <td>hour_0</td>\n",
       "    </tr>\n",
       "    <tr>\n",
       "      <th>9</th>\n",
       "      <td>False</td>\n",
       "      <td>16</td>\n",
       "      <td>hour_5</td>\n",
       "    </tr>\n",
       "    <tr>\n",
       "      <th>2</th>\n",
       "      <td>False</td>\n",
       "      <td>17</td>\n",
       "      <td>windspeed</td>\n",
       "    </tr>\n",
       "    <tr>\n",
       "      <th>20</th>\n",
       "      <td>False</td>\n",
       "      <td>18</td>\n",
       "      <td>hour_16</td>\n",
       "    </tr>\n",
       "    <tr>\n",
       "      <th>24</th>\n",
       "      <td>False</td>\n",
       "      <td>19</td>\n",
       "      <td>hour_20</td>\n",
       "    </tr>\n",
       "    <tr>\n",
       "      <th>13</th>\n",
       "      <td>False</td>\n",
       "      <td>20</td>\n",
       "      <td>hour_9</td>\n",
       "    </tr>\n",
       "    <tr>\n",
       "      <th>42</th>\n",
       "      <td>False</td>\n",
       "      <td>21</td>\n",
       "      <td>weather_3</td>\n",
       "    </tr>\n",
       "    <tr>\n",
       "      <th>27</th>\n",
       "      <td>False</td>\n",
       "      <td>22</td>\n",
       "      <td>hour_23</td>\n",
       "    </tr>\n",
       "    <tr>\n",
       "      <th>40</th>\n",
       "      <td>False</td>\n",
       "      <td>23</td>\n",
       "      <td>weather_1</td>\n",
       "    </tr>\n",
       "    <tr>\n",
       "      <th>37</th>\n",
       "      <td>False</td>\n",
       "      <td>24</td>\n",
       "      <td>month_10</td>\n",
       "    </tr>\n",
       "    <tr>\n",
       "      <th>10</th>\n",
       "      <td>False</td>\n",
       "      <td>25</td>\n",
       "      <td>hour_6</td>\n",
       "    </tr>\n",
       "    <tr>\n",
       "      <th>38</th>\n",
       "      <td>False</td>\n",
       "      <td>26</td>\n",
       "      <td>month_11</td>\n",
       "    </tr>\n",
       "    <tr>\n",
       "      <th>39</th>\n",
       "      <td>False</td>\n",
       "      <td>27</td>\n",
       "      <td>month_12</td>\n",
       "    </tr>\n",
       "    <tr>\n",
       "      <th>16</th>\n",
       "      <td>False</td>\n",
       "      <td>28</td>\n",
       "      <td>hour_12</td>\n",
       "    </tr>\n",
       "    <tr>\n",
       "      <th>30</th>\n",
       "      <td>False</td>\n",
       "      <td>29</td>\n",
       "      <td>month_3</td>\n",
       "    </tr>\n",
       "    <tr>\n",
       "      <th>36</th>\n",
       "      <td>False</td>\n",
       "      <td>30</td>\n",
       "      <td>month_9</td>\n",
       "    </tr>\n",
       "    <tr>\n",
       "      <th>29</th>\n",
       "      <td>False</td>\n",
       "      <td>31</td>\n",
       "      <td>month_2</td>\n",
       "    </tr>\n",
       "    <tr>\n",
       "      <th>26</th>\n",
       "      <td>False</td>\n",
       "      <td>32</td>\n",
       "      <td>hour_22</td>\n",
       "    </tr>\n",
       "    <tr>\n",
       "      <th>25</th>\n",
       "      <td>False</td>\n",
       "      <td>33</td>\n",
       "      <td>hour_21</td>\n",
       "    </tr>\n",
       "    <tr>\n",
       "      <th>31</th>\n",
       "      <td>False</td>\n",
       "      <td>34</td>\n",
       "      <td>month_4</td>\n",
       "    </tr>\n",
       "    <tr>\n",
       "      <th>14</th>\n",
       "      <td>False</td>\n",
       "      <td>35</td>\n",
       "      <td>hour_10</td>\n",
       "    </tr>\n",
       "    <tr>\n",
       "      <th>17</th>\n",
       "      <td>False</td>\n",
       "      <td>36</td>\n",
       "      <td>hour_13</td>\n",
       "    </tr>\n",
       "    <tr>\n",
       "      <th>15</th>\n",
       "      <td>False</td>\n",
       "      <td>37</td>\n",
       "      <td>hour_11</td>\n",
       "    </tr>\n",
       "    <tr>\n",
       "      <th>34</th>\n",
       "      <td>False</td>\n",
       "      <td>38</td>\n",
       "      <td>month_7</td>\n",
       "    </tr>\n",
       "    <tr>\n",
       "      <th>19</th>\n",
       "      <td>False</td>\n",
       "      <td>39</td>\n",
       "      <td>hour_15</td>\n",
       "    </tr>\n",
       "    <tr>\n",
       "      <th>18</th>\n",
       "      <td>False</td>\n",
       "      <td>40</td>\n",
       "      <td>hour_14</td>\n",
       "    </tr>\n",
       "    <tr>\n",
       "      <th>41</th>\n",
       "      <td>False</td>\n",
       "      <td>41</td>\n",
       "      <td>weather_2</td>\n",
       "    </tr>\n",
       "    <tr>\n",
       "      <th>32</th>\n",
       "      <td>False</td>\n",
       "      <td>42</td>\n",
       "      <td>month_5</td>\n",
       "    </tr>\n",
       "    <tr>\n",
       "      <th>33</th>\n",
       "      <td>False</td>\n",
       "      <td>43</td>\n",
       "      <td>month_6</td>\n",
       "    </tr>\n",
       "    <tr>\n",
       "      <th>35</th>\n",
       "      <td>False</td>\n",
       "      <td>44</td>\n",
       "      <td>month_8</td>\n",
       "    </tr>\n",
       "    <tr>\n",
       "      <th>28</th>\n",
       "      <td>False</td>\n",
       "      <td>45</td>\n",
       "      <td>month_1</td>\n",
       "    </tr>\n",
       "  </tbody>\n",
       "</table>\n",
       "</div>"
      ],
      "text/plain": [
       "    support  ranking       feature\n",
       "0      True        1          temp\n",
       "46     True        1      x0 x1 x2\n",
       "1      True        1      humidity\n",
       "45    False        2         x1 x2\n",
       "43    False        3         x0 x1\n",
       "21    False        4       hour_17\n",
       "22    False        5       hour_18\n",
       "3     False        6  workingday_0\n",
       "12    False        7        hour_8\n",
       "44    False        8         x0 x2\n",
       "23    False        9       hour_19\n",
       "8     False       10        hour_4\n",
       "7     False       11        hour_3\n",
       "5     False       12        hour_1\n",
       "6     False       13        hour_2\n",
       "11    False       14        hour_7\n",
       "4     False       15        hour_0\n",
       "9     False       16        hour_5\n",
       "2     False       17     windspeed\n",
       "20    False       18       hour_16\n",
       "24    False       19       hour_20\n",
       "13    False       20        hour_9\n",
       "42    False       21     weather_3\n",
       "27    False       22       hour_23\n",
       "40    False       23     weather_1\n",
       "37    False       24      month_10\n",
       "10    False       25        hour_6\n",
       "38    False       26      month_11\n",
       "39    False       27      month_12\n",
       "16    False       28       hour_12\n",
       "30    False       29       month_3\n",
       "36    False       30       month_9\n",
       "29    False       31       month_2\n",
       "26    False       32       hour_22\n",
       "25    False       33       hour_21\n",
       "31    False       34       month_4\n",
       "14    False       35       hour_10\n",
       "17    False       36       hour_13\n",
       "15    False       37       hour_11\n",
       "34    False       38       month_7\n",
       "19    False       39       hour_15\n",
       "18    False       40       hour_14\n",
       "41    False       41     weather_2\n",
       "32    False       42       month_5\n",
       "33    False       43       month_6\n",
       "35    False       44       month_8\n",
       "28    False       45       month_1"
      ]
     },
     "execution_count": 43,
     "metadata": {},
     "output_type": "execute_result"
    }
   ],
   "source": [
    "rfe_df.sort_values('ranking')"
   ]
  },
  {
   "cell_type": "markdown",
   "metadata": {},
   "source": [
    "### Hyperparameters optimization"
   ]
  },
  {
   "cell_type": "code",
   "execution_count": 44,
   "metadata": {},
   "outputs": [],
   "source": [
    "p = make_pipeline(PolynomialFeatures(), Ridge(normalize=True))"
   ]
  },
  {
   "cell_type": "code",
   "execution_count": 45,
   "metadata": {},
   "outputs": [
    {
     "data": {
      "text/plain": [
       "Pipeline(steps=[('polynomialfeatures', PolynomialFeatures()),\n",
       "                ('ridge', Ridge(normalize=True))])"
      ]
     },
     "execution_count": 45,
     "metadata": {},
     "output_type": "execute_result"
    }
   ],
   "source": [
    "p.fit(X_train_feps, y_train)"
   ]
  },
  {
   "cell_type": "code",
   "execution_count": 61,
   "metadata": {},
   "outputs": [],
   "source": [
    "PARAM_GRID = {'polynomialfeatures__degree':[2, 5]}\n",
    "\n",
    "grid = GridSearchCV(p, param_grid=PARAM_GRID)"
   ]
  },
  {
   "cell_type": "code",
   "execution_count": 62,
   "metadata": {},
   "outputs": [
    {
     "data": {
      "text/plain": [
       "GridSearchCV(estimator=Pipeline(steps=[('polynomialfeatures',\n",
       "                                        PolynomialFeatures()),\n",
       "                                       ('ridge', Ridge(normalize=True))]),\n",
       "             param_grid={'polynomialfeatures__degree': [2, 5]})"
      ]
     },
     "execution_count": 62,
     "metadata": {},
     "output_type": "execute_result"
    }
   ],
   "source": [
    "grid"
   ]
  },
  {
   "cell_type": "code",
   "execution_count": 56,
   "metadata": {},
   "outputs": [
    {
     "ename": "AttributeError",
     "evalue": "'GridSearchCV' object has no attribute 'cv_results_'",
     "output_type": "error",
     "traceback": [
      "\u001b[0;31m---------------------------------------------------------------------------\u001b[0m",
      "\u001b[0;31mAttributeError\u001b[0m                            Traceback (most recent call last)",
      "\u001b[0;32m<ipython-input-56-ce08f01a8a2a>\u001b[0m in \u001b[0;36m<module>\u001b[0;34m\u001b[0m\n\u001b[0;32m----> 1\u001b[0;31m \u001b[0mpd\u001b[0m\u001b[0;34m.\u001b[0m\u001b[0mDataFrame\u001b[0m\u001b[0;34m(\u001b[0m\u001b[0mgrid\u001b[0m\u001b[0;34m.\u001b[0m\u001b[0mcv_results_\u001b[0m\u001b[0;34m)\u001b[0m\u001b[0;34m.\u001b[0m\u001b[0mhead\u001b[0m\u001b[0;34m(\u001b[0m\u001b[0;34m)\u001b[0m\u001b[0;34m\u001b[0m\u001b[0;34m\u001b[0m\u001b[0m\n\u001b[0m",
      "\u001b[0;31mAttributeError\u001b[0m: 'GridSearchCV' object has no attribute 'cv_results_'"
     ]
    }
   ],
   "source": [
    "pd.DataFrame(grid.cv_results_).head()"
   ]
  },
  {
   "cell_type": "code",
   "execution_count": 60,
   "metadata": {},
   "outputs": [
    {
     "ename": "AttributeError",
     "evalue": "'GridSearchCV' object has no attribute 'best_params_'",
     "output_type": "error",
     "traceback": [
      "\u001b[0;31m---------------------------------------------------------------------------\u001b[0m",
      "\u001b[0;31mAttributeError\u001b[0m                            Traceback (most recent call last)",
      "\u001b[0;32m<ipython-input-60-66594fe35796>\u001b[0m in \u001b[0;36m<module>\u001b[0;34m\u001b[0m\n\u001b[0;32m----> 1\u001b[0;31m \u001b[0mfinal_model\u001b[0m \u001b[0;34m=\u001b[0m \u001b[0mgrid\u001b[0m\u001b[0;34m.\u001b[0m\u001b[0mbest_params_\u001b[0m\u001b[0;34m\u001b[0m\u001b[0;34m\u001b[0m\u001b[0m\n\u001b[0m",
      "\u001b[0;31mAttributeError\u001b[0m: 'GridSearchCV' object has no attribute 'best_params_'"
     ]
    }
   ],
   "source": [
    "final_model = grid.best_params_"
   ]
  },
  {
   "cell_type": "code",
   "execution_count": null,
   "metadata": {},
   "outputs": [],
   "source": [
    "final_model.predict(X_test_feps)"
   ]
  },
  {
   "cell_type": "markdown",
   "metadata": {},
   "source": [
    "### Kaggle"
   ]
  },
  {
   "cell_type": "code",
   "execution_count": null,
   "metadata": {},
   "outputs": [],
   "source": [
    "X_kaggle= pd.read_csv('./data/test.csv', ',', parse_dates=True, index_col=0)"
   ]
  },
  {
   "cell_type": "code",
   "execution_count": null,
   "metadata": {},
   "outputs": [],
   "source": [
    "X_kaggle_fe=feature_eng(X_kaggle)\n",
    "X_kaggle_fep=poly(X_kaggle_fe)\n",
    "X_kaggle_feps=select(X_kaggle_fep)\n",
    "y_kaggle = m.predict(X_kaggle_feps)\n",
    "y_kaggle"
   ]
  },
  {
   "cell_type": "code",
   "execution_count": null,
   "metadata": {},
   "outputs": [],
   "source": [
    "y_kaggle_pos = y_kaggle.flatten()\n",
    "y_kaggle_pos[y_kaggle_pos < 0] = 0"
   ]
  },
  {
   "cell_type": "code",
   "execution_count": null,
   "metadata": {},
   "outputs": [],
   "source": [
    "y_kaggle_pos"
   ]
  },
  {
   "cell_type": "code",
   "execution_count": null,
   "metadata": {},
   "outputs": [],
   "source": [
    "output = pd.DataFrame({'datetime': X_kaggle_feps.index, 'count': y_kaggle_pos})\n",
    "output.to_csv('./data/bikes.csv', index=False)\n",
    "print(\"Your submission was successfully saved!\")"
   ]
  }
 ],
 "metadata": {
  "kernelspec": {
   "display_name": "Python 3",
   "language": "python",
   "name": "python3"
  },
  "language_info": {
   "codemirror_mode": {
    "name": "ipython",
    "version": 3
   },
   "file_extension": ".py",
   "mimetype": "text/x-python",
   "name": "python",
   "nbconvert_exporter": "python",
   "pygments_lexer": "ipython3",
   "version": "3.8.3"
  }
 },
 "nbformat": 4,
 "nbformat_minor": 4
}
