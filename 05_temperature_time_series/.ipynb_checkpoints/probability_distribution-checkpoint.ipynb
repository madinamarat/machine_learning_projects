{
 "cells": [
  {
   "cell_type": "code",
   "execution_count": 3,
   "metadata": {},
   "outputs": [],
   "source": [
    "import numpy as np\n",
    "from scipy import stats\n",
    "import matplotlib.pyplot as plt\n",
    "import seaborn as sns\n",
    "plt.rcParams['figure.figsize'] = (8,4)"
   ]
  },
  {
   "cell_type": "markdown",
   "metadata": {},
   "source": [
    "### Problem 1\n",
    "In a web shop, once a visitor starts placing items in the basket, there is a conversion rate of 0.3 (i.e. the probability that they will actually buy something)."
   ]
  },
  {
   "cell_type": "markdown",
   "metadata": {},
   "source": [
    "Given 10 visitors with a basket, what is the probability that at least one will make a purchase?"
   ]
  },
  {
   "cell_type": "markdown",
   "metadata": {},
   "source": [
    "p = (1-0.3) that for n=1 no one buys anything\n",
    "\n",
    "1-(7/10)**10"
   ]
  },
  {
   "cell_type": "code",
   "execution_count": 22,
   "metadata": {},
   "outputs": [
    {
     "data": {
      "image/png": "[encoded data removed]",
      "text/plain": [
       "<Figure size 576x288 with 1 Axes>"
      ]
     },
     "metadata": {
      "needs_background": "light"
     },
     "output_type": "display_data"
    }
   ],
   "source": [
    "p = 0.3\n",
    "n = 10\n",
    "k = list(range(n+1))\n",
    "y = stats.binom.pmf(k, p=p, n=n)\n",
    "\n",
    "plt.bar(k, y)\n",
    "plt.title(f'PMF of a Binomial distribution with p={p} and n={n}', fontsize=15)\n",
    "plt.xlabel('Nr. of Successes', fontsize=15)\n",
    "plt.ylabel('Probability', fontsize=15)\n",
    "plt.xticks(k + [10])\n",
    "plt.xlim(-1, 11)\n",
    "plt.ylim(0, 1);"
   ]
  },
  {
   "cell_type": "code",
   "execution_count": 24,
   "metadata": {},
   "outputs": [
    {
     "name": "stdout",
     "output_type": "stream",
     "text": [
      "97.18  %\n"
     ]
    }
   ],
   "source": [
    "p = 0.3\n",
    "n = 10\n",
    "k = list(range(n+1))\n",
    "y=0\n",
    "for i in range(1, 11):\n",
    "    y+= stats.binom.pmf(i, p=p, n=n)\n",
    "print((y*100).round(2), \" %\")"
   ]
  },
  {
   "cell_type": "markdown",
   "metadata": {},
   "source": [
    "What is the probability that exactly one will make a purchase?"
   ]
  },
  {
   "cell_type": "code",
   "execution_count": 14,
   "metadata": {},
   "outputs": [
    {
     "name": "stdout",
     "output_type": "stream",
     "text": [
      "12.11  %\n"
     ]
    }
   ],
   "source": [
    "p = 0.3\n",
    "n = 10\n",
    "k = 1\n",
    "y = stats.binom.pmf(k, p=p, n=n)\n",
    "print((y*100).round(2), \" %\")"
   ]
  },
  {
   "cell_type": "markdown",
   "metadata": {},
   "source": [
    "### Problem 2\n",
    "The customer service of a retail company receives on average 12.1 support requests per hour.\n",
    "What is the probability that they will receive exactly 8 requests per hour?\n",
    "What is the probability that there will be 15 or more request per hour?"
   ]
  },
  {
   "cell_type": "code",
   "execution_count": 7,
   "metadata": {},
   "outputs": [
    {
     "name": "stdout",
     "output_type": "stream",
     "text": [
      "6.34  %\n"
     ]
    }
   ],
   "source": [
    "pr8 = stats.poisson.pmf(8,12.1)\n",
    "print((pr8*100).round(2), \" %\")"
   ]
  },
  {
   "cell_type": "code",
   "execution_count": 9,
   "metadata": {},
   "outputs": [
    {
     "name": "stdout",
     "output_type": "stream",
     "text": [
      "23.71  % 76.29  %\n"
     ]
    }
   ],
   "source": [
    "pr15= stats.poisson.cdf(14,12.1)\n",
    "atleast = 1- pr15\n",
    "\n",
    "print((atleast*100).round(2), \" %\", (pr15*100).round(2), \" %\")"
   ]
  }
 ],
 "metadata": {
  "kernelspec": {
   "display_name": "Python 3",
   "language": "python",
   "name": "python3"
  },
  "language_info": {
   "codemirror_mode": {
    "name": "ipython",
    "version": 3
   },
   "file_extension": ".py",
   "mimetype": "text/x-python",
   "name": "python",
   "nbconvert_exporter": "python",
   "pygments_lexer": "ipython3",
   "version": "3.8.3"
  }
 },
 "nbformat": 4,
 "nbformat_minor": 4
}
