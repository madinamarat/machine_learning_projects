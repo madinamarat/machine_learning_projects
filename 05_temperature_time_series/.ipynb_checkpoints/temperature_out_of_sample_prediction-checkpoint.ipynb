{
 "cells": [
  {
   "cell_type": "code",
   "execution_count": 1,
   "metadata": {},
   "outputs": [],
   "source": [
    "import pandas as pd\n",
    "import matplotlib.pyplot as plt\n",
    "from tqdm.auto import tqdm\n",
    "import seaborn as sns\n",
    "%matplotlib inline\n",
    "plt.rcParams['figure.figsize'] = (10,6)\n",
    "import numpy as np\n",
    "from sklearn.metrics import mean_squared_error\n",
    "from statsmodels.tsa.arima_model import ARIMA"
   ]
  },
  {
   "cell_type": "code",
   "execution_count": 2,
   "metadata": {},
   "outputs": [],
   "source": [
    "df=pd.read_csv(\"./data/TG_STAID002759.txt\", parse_dates=True, index_col=1)\n",
    "df.rename(columns = {' SOUID': 'source', '   TG':\"temp\", ' Q_TG': 'QTG'}, inplace=True)"
   ]
  },
  {
   "cell_type": "code",
   "execution_count": 3,
   "metadata": {},
   "outputs": [
    {
     "data": {
      "application/vnd.jupyter.widget-view+json": {
       "model_id": "3665165d5ebf42a8806c5dc619d0edff",
       "version_major": 2,
       "version_minor": 0
      },
      "text/plain": [
       "HBox(children=(FloatProgress(value=0.0, max=195.0), HTML(value='')))"
      ]
     },
     "metadata": {},
     "output_type": "display_data"
    },
    {
     "name": "stdout",
     "output_type": "stream",
     "text": [
      "\n"
     ]
    }
   ],
   "source": [
    "missing = pd.date_range('1945-04-25', periods=195, freq='D')  # solution for loops from Aron\n",
    "year44 = pd.date_range('1944-04-25', periods=195, freq='D')\n",
    "year46 = pd.date_range('1946-04-25', periods=195, freq='D')\n",
    "m=0\n",
    "for i in tqdm(missing):\n",
    "    df.loc[i,\"temp\"] = (df.loc[year44[m]][\"temp\"] + df.loc[year46[m]][\"temp\"]) / 2\n",
    "    m += 1"
   ]
  },
  {
   "cell_type": "code",
   "execution_count": 4,
   "metadata": {},
   "outputs": [],
   "source": [
    "df['tempK']=df['temp']*0.1+273.15 #Kelvin\n",
    "df=df.drop(['QTG', 'source','temp'],axis=1) #removing all unnecessary columns\n",
    "df = df[~((df.index.month == 2) & (df.index.day == 29))] #removing all 29 February"
   ]
  },
  {
   "cell_type": "markdown",
   "metadata": {},
   "source": [
    "#### Decomposing"
   ]
  },
  {
   "cell_type": "code",
   "execution_count": 5,
   "metadata": {},
   "outputs": [],
   "source": [
    "def decompose(df):\n",
    "   \n",
    "    df['diff_temp']=df['tempK'].diff() #trend\n",
    "    df['monthly_mean'] = df.groupby(df.index.month)['diff_temp'].transform('mean')  #seasonality\n",
    "    df['stationary_temp'] = df.diff_temp - df.monthly_mean  #noise\n",
    "\n",
    "    return df"
   ]
  },
  {
   "cell_type": "code",
   "execution_count": 6,
   "metadata": {},
   "outputs": [
    {
     "data": {
      "text/html": [
       "<div>\n",
       "<style scoped>\n",
       "    .dataframe tbody tr th:only-of-type {\n",
       "        vertical-align: middle;\n",
       "    }\n",
       "\n",
       "    .dataframe tbody tr th {\n",
       "        vertical-align: top;\n",
       "    }\n",
       "\n",
       "    .dataframe thead th {\n",
       "        text-align: right;\n",
       "    }\n",
       "</style>\n",
       "<table border=\"1\" class=\"dataframe\">\n",
       "  <thead>\n",
       "    <tr style=\"text-align: right;\">\n",
       "      <th></th>\n",
       "      <th>tempK</th>\n",
       "      <th>diff_temp</th>\n",
       "      <th>monthly_mean</th>\n",
       "      <th>stationary_temp</th>\n",
       "    </tr>\n",
       "    <tr>\n",
       "      <th>DATE</th>\n",
       "      <th></th>\n",
       "      <th></th>\n",
       "      <th></th>\n",
       "      <th></th>\n",
       "    </tr>\n",
       "  </thead>\n",
       "  <tbody>\n",
       "    <tr>\n",
       "      <th>1876-01-01</th>\n",
       "      <td>275.35</td>\n",
       "      <td>NaN</td>\n",
       "      <td>-0.005496</td>\n",
       "      <td>NaN</td>\n",
       "    </tr>\n",
       "    <tr>\n",
       "      <th>1876-01-02</th>\n",
       "      <td>275.65</td>\n",
       "      <td>0.3</td>\n",
       "      <td>-0.005496</td>\n",
       "      <td>0.305496</td>\n",
       "    </tr>\n",
       "    <tr>\n",
       "      <th>1876-01-03</th>\n",
       "      <td>273.45</td>\n",
       "      <td>-2.2</td>\n",
       "      <td>-0.005496</td>\n",
       "      <td>-2.194504</td>\n",
       "    </tr>\n",
       "    <tr>\n",
       "      <th>1876-01-04</th>\n",
       "      <td>267.35</td>\n",
       "      <td>-6.1</td>\n",
       "      <td>-0.005496</td>\n",
       "      <td>-6.094504</td>\n",
       "    </tr>\n",
       "    <tr>\n",
       "      <th>1876-01-05</th>\n",
       "      <td>263.35</td>\n",
       "      <td>-4.0</td>\n",
       "      <td>-0.005496</td>\n",
       "      <td>-3.994504</td>\n",
       "    </tr>\n",
       "  </tbody>\n",
       "</table>\n",
       "</div>"
      ],
      "text/plain": [
       "             tempK  diff_temp  monthly_mean  stationary_temp\n",
       "    DATE                                                    \n",
       "1876-01-01  275.35        NaN     -0.005496              NaN\n",
       "1876-01-02  275.65        0.3     -0.005496         0.305496\n",
       "1876-01-03  273.45       -2.2     -0.005496        -2.194504\n",
       "1876-01-04  267.35       -6.1     -0.005496        -6.094504\n",
       "1876-01-05  263.35       -4.0     -0.005496        -3.994504"
      ]
     },
     "execution_count": 6,
     "metadata": {},
     "output_type": "execute_result"
    }
   ],
   "source": [
    "decompose(df).head(5)"
   ]
  },
  {
   "cell_type": "markdown",
   "metadata": {},
   "source": [
    "#### Train/Test Split"
   ]
  },
  {
   "cell_type": "code",
   "execution_count": 7,
   "metadata": {},
   "outputs": [],
   "source": [
    "train = df.iloc[-3650:-365]['stationary_temp'] #2010-08-01 - 2020-07-24\n",
    "test = df.iloc[-365:]['stationary_temp']      #2020-07-25 - 2020-07-31"
   ]
  },
  {
   "cell_type": "markdown",
   "metadata": {},
   "source": [
    "#### ARIMA testing"
   ]
  },
  {
   "cell_type": "code",
   "execution_count": 22,
   "metadata": {
    "scrolled": false
   },
   "outputs": [
    {
     "name": "stderr",
     "output_type": "stream",
     "text": [
      "/Users/madinamukhambekova/opt/anaconda3/lib/python3.8/site-packages/statsmodels/tsa/base/tsa_model.py:216: ValueWarning: A date index has been provided, but it has no associated frequency information and so will be ignored when e.g. forecasting.\n",
      "  warnings.warn('A date index has been provided, but it has no'\n"
     ]
    }
   ],
   "source": [
    "m = ARIMA(train, order=(1,0,3))"
   ]
  },
  {
   "cell_type": "code",
   "execution_count": 23,
   "metadata": {
    "scrolled": false
   },
   "outputs": [],
   "source": [
    "m_fit = m.fit()"
   ]
  },
  {
   "cell_type": "code",
   "execution_count": 10,
   "metadata": {},
   "outputs": [],
   "source": [
    "future = m_fit.forecast(steps=365)[0] "
   ]
  },
  {
   "cell_type": "code",
   "execution_count": 27,
   "metadata": {},
   "outputs": [],
   "source": [
    "year = 1\n",
    "y_future = pd.DataFrame(index = pd.date_range(start='31 July 2020', periods = 365*year, freq='D'),\n",
    "             data=[0]*365*year,\n",
    "             columns=['monthly_mean'])"
   ]
  },
  {
   "cell_type": "code",
   "execution_count": 31,
   "metadata": {},
   "outputs": [],
   "source": [
    "original=df.iloc[-365:]\n",
    "y_future.iloc[0, 0] = df_train.tempK[-1]\n",
    "mean_train=original.groupby(original.index.month)['diff_temp'].transform('mean')"
   ]
  },
  {
   "cell_type": "code",
   "execution_count": 66,
   "metadata": {},
   "outputs": [],
   "source": [
    "y_future.iloc[1:] = mean_train[0:(365*year)-1].values.reshape(-1,1)\n",
    "prediction=pd.DataFrame(future, index=y_future.index, columns=['forecast'])\n",
    "pred = pd.concat([prediction, y_future], axis=1)\n",
    "pred['reseasoned']=pred.forecast + pred.monthly_mean \n",
    "pred['prediction'] = np.cumsum(pred.reseasoned)"
   ]
  },
  {
   "cell_type": "code",
   "execution_count": 65,
   "metadata": {},
   "outputs": [
    {
     "data": {
      "text/plain": [
       "Text(0.5, 1.0, 'Prediction with ARIMA from 31 July 2020 to 31 July 2021')"
      ]
     },
     "execution_count": 65,
     "metadata": {},
     "output_type": "execute_result"
    },
    {
     "data": {
      "image/png": "[encoded data removed]",
      "text/plain": [
       "<Figure size 720x432 with 1 Axes>"
      ]
     },
     "metadata": {
      "needs_background": "light"
     },
     "output_type": "display_data"
    }
   ],
   "source": [
    "df.iloc[-3650:-365]['tempK'].plot()\n",
    "df.iloc[-365:]['tempK'].plot()\n",
    "pred['prediction'].plot()\n",
    "plt.title('Prediction with ARIMA from 31 July 2020 to 31 July 2021')"
   ]
  }
 ],
 "metadata": {
  "kernelspec": {
   "display_name": "Python 3",
   "language": "python",
   "name": "python3"
  },
  "language_info": {
   "codemirror_mode": {
    "name": "ipython",
    "version": 3
   },
   "file_extension": ".py",
   "mimetype": "text/x-python",
   "name": "python",
   "nbconvert_exporter": "python",
   "pygments_lexer": "ipython3",
   "version": "3.8.3"
  }
 },
 "nbformat": 4,
 "nbformat_minor": 4
}
